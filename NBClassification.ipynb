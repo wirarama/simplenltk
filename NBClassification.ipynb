{
 "cells": [
  {
   "cell_type": "code",
   "execution_count": 1,
   "metadata": {},
   "outputs": [],
   "source": [
    "import numpy as np\n",
    "from sklearn.feature_extraction.text import TfidfVectorizer\n",
    "from sklearn.naive_bayes import MultinomialNB"
   ]
  },
  {
   "cell_type": "code",
   "execution_count": 2,
   "metadata": {},
   "outputs": [],
   "source": [
    "file = open(\"training.txt\",\"r\")\n",
    "vectorizer = TfidfVectorizer(sublinear_tf=True, max_df=0.5)\n",
    "X = vectorizer.fit_transform(file)\n",
    "y = np.array([1, 1, 2, 2])"
   ]
  },
  {
   "cell_type": "code",
   "execution_count": 3,
   "metadata": {},
   "outputs": [
    {
     "name": "stdout",
     "output_type": "stream",
     "text": [
      "Fitur Text ['aceh', 'apa', 'apalagi', 'binatang', 'bioskop', 'dikasi', 'disangka', 'eh', 'emang', 'film', 'goreng', 'gratis', 'harimau', 'horror', 'kambing', 'kandang', 'ke', 'kebun', 'kemarin', 'lalu', 'makan', 'malah', 'masuk', 'mie', 'muka', 'nasi', 'paling', 'pedas', 'pemeran', 'pergi', 'salah', 'sangat', 'seminggu', 'suka', 'tapi', 'ya', 'yang'] \n"
     ]
    }
   ],
   "source": [
    "print(\"Fitur Text %s \" % (vectorizer.get_feature_names()))"
   ]
  },
  {
   "cell_type": "code",
   "execution_count": 4,
   "metadata": {},
   "outputs": [
    {
     "name": "stdout",
     "output_type": "stream",
     "text": [
      "Shape : (4, 37) \n"
     ]
    }
   ],
   "source": [
    "print(\"Shape : %s \" % str(X.shape))"
   ]
  },
  {
   "cell_type": "code",
   "execution_count": 5,
   "metadata": {},
   "outputs": [
    {
     "name": "stdout",
     "output_type": "stream",
     "text": [
      "X :   (0, 33)\t0.374616029678825\n",
      "  (0, 20)\t0.22125426187399416\n",
      "  (0, 25)\t0.5889398125978981\n",
      "  (0, 26)\t0.22125426187399416\n",
      "  (0, 10)\t0.374616029678825\n",
      "  (0, 2)\t0.22125426187399416\n",
      "  (0, 14)\t0.280632976266269\n",
      "  (0, 36)\t0.22125426187399416\n",
      "  (0, 31)\t0.22125426187399416\n",
      "  (0, 27)\t0.22125426187399416\n",
      "  (1, 33)\t0.37461602967882496\n",
      "  (1, 20)\t0.22125426187399413\n",
      "  (1, 26)\t0.22125426187399413\n",
      "  (1, 10)\t0.37461602967882496\n",
      "  (1, 2)\t0.22125426187399413\n",
      "  (1, 36)\t0.22125426187399413\n",
      "  (1, 31)\t0.22125426187399413\n",
      "  (1, 27)\t0.22125426187399413\n",
      "  (1, 23)\t0.5889398125978981\n",
      "  (1, 0)\t0.28063297626626893\n",
      "  (2, 18)\t0.26599980420542463\n",
      "  (2, 29)\t0.20971730094276944\n",
      "  (2, 16)\t0.3550822568058916\n",
      "  (2, 17)\t0.26599980420542463\n",
      "  (2, 3)\t0.26599980420542463\n",
      "  :\t:\n",
      "  (2, 22)\t0.20971730094276944\n",
      "  (2, 11)\t0.20971730094276944\n",
      "  (2, 34)\t0.26599980420542463\n",
      "  (2, 15)\t0.26599980420542463\n",
      "  (2, 12)\t0.26599980420542463\n",
      "  (2, 30)\t0.26599980420542463\n",
      "  (2, 1)\t0.26599980420542463\n",
      "  (2, 35)\t0.20971730094276944\n",
      "  (3, 29)\t0.19809903634259177\n",
      "  (3, 16)\t0.19809903634259177\n",
      "  (3, 7)\t0.19809903634259177\n",
      "  (3, 21)\t0.19809903634259177\n",
      "  (3, 5)\t0.19809903634259177\n",
      "  (3, 22)\t0.19809903634259177\n",
      "  (3, 11)\t0.19809903634259177\n",
      "  (3, 35)\t0.19809903634259177\n",
      "  (3, 32)\t0.2512635087497748\n",
      "  (3, 19)\t0.2512635087497748\n",
      "  (3, 4)\t0.2512635087497748\n",
      "  (3, 6)\t0.2512635087497748\n",
      "  (3, 28)\t0.2512635087497748\n",
      "  (3, 9)\t0.2512635087497748\n",
      "  (3, 13)\t0.4254261014172805\n",
      "  (3, 24)\t0.2512635087497748\n",
      "  (3, 8)\t0.2512635087497748 \n"
     ]
    }
   ],
   "source": [
    "print(\"X : %s \" % (X))"
   ]
  },
  {
   "cell_type": "code",
   "execution_count": 6,
   "metadata": {},
   "outputs": [
    {
     "data": {
      "text/plain": [
       "MultinomialNB(alpha=1.0, class_prior=None, fit_prior=True)"
      ]
     },
     "execution_count": 6,
     "metadata": {},
     "output_type": "execute_result"
    }
   ],
   "source": [
    "clf = MultinomialNB(alpha=1.0,class_prior=None,fit_prior=True)\n",
    "clf.fit(X,y)"
   ]
  },
  {
   "cell_type": "code",
   "execution_count": 9,
   "metadata": {},
   "outputs": [],
   "source": [
    "file = open(\"test.txt\",\"r\")\n",
    "test = vectorizer.transform(file)"
   ]
  },
  {
   "cell_type": "code",
   "execution_count": 10,
   "metadata": {},
   "outputs": [
    {
     "name": "stdout",
     "output_type": "stream",
     "text": [
      "Hasil Prediksi [1 2 2 1] \n"
     ]
    }
   ],
   "source": [
    "print(\"Hasil Prediksi %s \" % (clf.predict(test)))"
   ]
  }
 ],
 "metadata": {
  "kernelspec": {
   "display_name": "Python 3",
   "language": "python",
   "name": "python3"
  },
  "language_info": {
   "codemirror_mode": {
    "name": "ipython",
    "version": 3
   },
   "file_extension": ".py",
   "mimetype": "text/x-python",
   "name": "python",
   "nbconvert_exporter": "python",
   "pygments_lexer": "ipython3",
   "version": "3.7.3"
  }
 },
 "nbformat": 4,
 "nbformat_minor": 2
}

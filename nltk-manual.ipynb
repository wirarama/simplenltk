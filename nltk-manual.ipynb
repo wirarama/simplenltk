{
 "cells": [
  {
   "cell_type": "code",
   "execution_count": 1,
   "metadata": {},
   "outputs": [],
   "source": [
    "kalimat = \"saya pergi ke pasar bersama keanu reeves membeli rujak buah\""
   ]
  },
  {
   "cell_type": "code",
   "execution_count": 2,
   "metadata": {},
   "outputs": [],
   "source": [
    "kata = kalimat.split()"
   ]
  },
  {
   "cell_type": "code",
   "execution_count": 4,
   "metadata": {
    "scrolled": true
   },
   "outputs": [
    {
     "name": "stdout",
     "output_type": "stream",
     "text": [
      "['saya', 'pergi', 'ke', 'pasar', 'bersama', 'keanu', 'reeves', 'membeli', 'rujak', 'buah']\n",
      "10\n"
     ]
    }
   ],
   "source": [
    "print(kata)\n",
    "print(len(kata))"
   ]
  },
  {
   "cell_type": "code",
   "execution_count": 29,
   "metadata": {},
   "outputs": [],
   "source": [
    "paragraf = kalimat+\". Sesampainya di pasar, keanu reeves meminta saya membeli rujak buah dengan bumbu yang sangat pedas. Setelah kami membelinya, kamipun memakan rujak buah tersebut. Saya kira keanu reeves akan kepedasan, tetapi ternyata beliau memakannya dengan santai dan meyakinkan. Sungguh tokoh yang luar biasa.\""
   ]
  },
  {
   "cell_type": "code",
   "execution_count": 6,
   "metadata": {},
   "outputs": [
    {
     "name": "stdout",
     "output_type": "stream",
     "text": [
      "['akan', 'beliau', 'bersama', 'biasa.', 'buah', 'buah', 'buah.', 'bumbu', 'dan', 'dengan', 'dengan', 'di', 'kami', 'kamipun', 'ke', 'keanu', 'keanu', 'keanu', 'kepedasan,', 'kira', 'luar', 'memakan', 'memakannya', 'membeli', 'membeli', 'membelinya,', 'meminta', 'meyakinkan.', 'pasar', 'pasar,', 'pedas.', 'pergi', 'reeves', 'reeves', 'reeves', 'rujak', 'rujak', 'rujak', 'sangat', 'santai', 'saya', 'saya', 'Saya', 'Sesampainya', 'Setelah', 'Sungguh', 'ternyata', 'tersebut.', 'tetapi', 'tokoh', 'yang', 'yang']\n"
     ]
    }
   ],
   "source": [
    "kata = paragraf.split()\n",
    "kata = sorted(kata, key=str.lower)\n",
    "print(kata)"
   ]
  },
  {
   "cell_type": "code",
   "execution_count": 7,
   "metadata": {},
   "outputs": [],
   "source": [
    "def mapreduce(paragraf):\n",
    "    temp = paragraf.lower()\n",
    "    for x in [',','.','!','?',':',';','\"','\\'','#','$']:\n",
    "        temp = temp.replace(x,'')\n",
    "    kata = temp.split()\n",
    "    kata = sorted(kata, key=str.lower)\n",
    "    reduced = []\n",
    "    kata_pt = ''\n",
    "    kata_hitung = 1\n",
    "    for x in kata:\n",
    "        if kata_pt!=x:\n",
    "            if kata_pt != '':\n",
    "                reduced.append((kata_pt,kata_hitung))\n",
    "            kata_pt = x\n",
    "            kata_hitung = 1\n",
    "        else:\n",
    "            kata_hitung += 1\n",
    "    return reduced"
   ]
  },
  {
   "cell_type": "code",
   "execution_count": 14,
   "metadata": {},
   "outputs": [
    {
     "name": "stdout",
     "output_type": "stream",
     "text": [
      "[('beliau', 1), ('biasa', 1), ('buah', 3), ('bumbu', 1), ('kamipun', 1), ('keanu', 3), ('kepedasan', 1), ('memakan', 1), ('memakannya', 1), ('membeli', 2), ('membelinya', 1), ('meyakinkan', 1), ('pasar', 2), ('pedas', 1), ('pergi', 1), ('reeves', 3), ('rujak', 3), ('santai', 1), ('saya', 1), ('sesampainya', 1), ('setelah', 1), ('sungguh', 1), ('tersebut', 1)]\n"
     ]
    }
   ],
   "source": [
    "paragraf = buangstopword(paragraf)\n",
    "reduced = mapreduce(' '.join(paragraf))\n",
    "print(reduced)"
   ]
  },
  {
   "cell_type": "code",
   "execution_count": 9,
   "metadata": {},
   "outputs": [
    {
     "name": "stdout",
     "output_type": "stream",
     "text": [
      "['super', 'hero', 'kampung', 'sebelah', 'suka', 'makan', 'sayuran']\n"
     ]
    }
   ],
   "source": [
    "test = \"saya adalah super hero dari kampung sebelah yang suka makan segala sayuran\"\n",
    "def buangstopword(paragraf):\n",
    "    from stopword import getstopword\n",
    "    stop = getstopword()\n",
    "    out = []\n",
    "    for x in paragraf.split():\n",
    "        if x not in stop:\n",
    "            out.append(x)\n",
    "    return out\n",
    "out = buangstopword(test)\n",
    "print(out)"
   ]
  },
  {
   "cell_type": "code",
   "execution_count": null,
   "metadata": {},
   "outputs": [],
   "source": []
  },
  {
   "cell_type": "code",
   "execution_count": 18,
   "metadata": {},
   "outputs": [],
   "source": [
    "dk = open('daftarkata.txt','r')\n",
    "dlist = []\n",
    "for x in dk.readlines():\n",
    "    dlist.append(x.replace('\\n',''))"
   ]
  },
  {
   "cell_type": "code",
   "execution_count": null,
   "metadata": {},
   "outputs": [],
   "source": [
    "for x in reduced:\n",
    "    if x[0] not in dlist:\n",
    "        print(x[0],x[1])"
   ]
  },
  {
   "cell_type": "code",
   "execution_count": 15,
   "metadata": {},
   "outputs": [
    {
     "name": "stdout",
     "output_type": "stream",
     "text": [
      "mem\n",
      "kan\n",
      "belikan\n",
      "membeli\n",
      "beli\n"
     ]
    }
   ],
   "source": [
    "test = 'membelikan'\n",
    "print(test[:3])\n",
    "print(test[-3:])\n",
    "print(test[3:])\n",
    "print(test[:-3])\n",
    "print(test[3:-3])"
   ]
  },
  {
   "cell_type": "code",
   "execution_count": 16,
   "metadata": {},
   "outputs": [
    {
     "ename": "NameError",
     "evalue": "name 'dlist' is not defined",
     "output_type": "error",
     "traceback": [
      "\u001b[0;31m---------------------------------------------------------------------------\u001b[0m",
      "\u001b[0;31mNameError\u001b[0m                                 Traceback (most recent call last)",
      "\u001b[0;32m<ipython-input-16-1f75910edbdf>\u001b[0m in \u001b[0;36m<module>\u001b[0;34m\u001b[0m\n\u001b[1;32m      4\u001b[0m           \u001b[0mtest\u001b[0m\u001b[0;34m[\u001b[0m\u001b[0;36m3\u001b[0m\u001b[0;34m:\u001b[0m\u001b[0;34m]\u001b[0m\u001b[0;34m,\u001b[0m\u001b[0mtest\u001b[0m\u001b[0;34m[\u001b[0m\u001b[0;36m2\u001b[0m\u001b[0;34m:\u001b[0m\u001b[0;34m]\u001b[0m\u001b[0;34m,\u001b[0m\u001b[0;34m\u001b[0m\u001b[0;34m\u001b[0m\u001b[0m\n\u001b[1;32m      5\u001b[0m           test[:-3],test[:-2],test[:-1]):\n\u001b[0;32m----> 6\u001b[0;31m     \u001b[0;32mif\u001b[0m \u001b[0mx\u001b[0m \u001b[0;32min\u001b[0m \u001b[0mdlist\u001b[0m \u001b[0;32mand\u001b[0m \u001b[0mlen\u001b[0m\u001b[0;34m(\u001b[0m\u001b[0mx\u001b[0m\u001b[0;34m)\u001b[0m\u001b[0;34m>\u001b[0m\u001b[0;36m3\u001b[0m\u001b[0;34m:\u001b[0m\u001b[0;34m\u001b[0m\u001b[0;34m\u001b[0m\u001b[0m\n\u001b[0m\u001b[1;32m      7\u001b[0m         \u001b[0mprint\u001b[0m\u001b[0;34m(\u001b[0m\u001b[0mx\u001b[0m\u001b[0;34m)\u001b[0m\u001b[0;34m\u001b[0m\u001b[0;34m\u001b[0m\u001b[0m\n",
      "\u001b[0;31mNameError\u001b[0m: name 'dlist' is not defined"
     ]
    }
   ],
   "source": [
    "test = 'meminta'\n",
    "for x in (test[3:-3],test[3:-2],test[3:-1],\n",
    "          test[2:-3],test[2:-2],test[2:-1],\n",
    "          test[3:],test[2:],\n",
    "          test[:-3],test[:-2],test[:-1]):\n",
    "    if x in dlist and len(x)>3:\n",
    "        print(x)"
   ]
  },
  {
   "cell_type": "code",
   "execution_count": null,
   "metadata": {},
   "outputs": [],
   "source": [
    "def stemmingindo(kata,dlist):\n",
    "    out = kata\n",
    "    if len(kata)>3:\n",
    "        if kata[:3] in ['men','mem','meng','ber','bel','ter','per','pen']:\n",
    "            temp = kata[3:]\n",
    "        elif kata[:2] in ['me','ke','di','pe','se']:\n",
    "            temp = kata[2:]\n",
    "        else:\n",
    "            temp = kata\n",
    "        if kata[-3:] in ['kan','nya','pun']:\n",
    "            temp = temp[:-3]\n",
    "        elif kata[:2] == 'an':\n",
    "            temp = temp[:-2]\n",
    "        elif kata[:1] == 'i':\n",
    "            temp = temp[:-1]\n",
    "        if temp in dlist:\n",
    "            out = temp\n",
    "    return out"
   ]
  },
  {
   "cell_type": "code",
   "execution_count": 17,
   "metadata": {},
   "outputs": [],
   "source": [
    "def stemmingindoalt(kata,dlist):\n",
    "    out = kata\n",
    "    for x in (kata[3:-3],kata[3:-2],kata[3:-1],\n",
    "              kata[2:-3],kata[2:-2],kata[2:-1],\n",
    "              kata[3:],kata[2:],\n",
    "              kata[:-3],kata[:-2],kata[:-1]):\n",
    "        if x in dlist and len(x)>3:\n",
    "            out = x\n",
    "    return out"
   ]
  },
  {
   "cell_type": "code",
   "execution_count": 19,
   "metadata": {},
   "outputs": [
    {
     "ename": "NameError",
     "evalue": "name 'stemmingindo' is not defined",
     "output_type": "error",
     "traceback": [
      "\u001b[0;31m---------------------------------------------------------------------------\u001b[0m",
      "\u001b[0;31mNameError\u001b[0m                                 Traceback (most recent call last)",
      "\u001b[0;32m<ipython-input-19-3c610e82c82b>\u001b[0m in \u001b[0;36m<module>\u001b[0;34m\u001b[0m\n\u001b[1;32m      1\u001b[0m \u001b[0;32mfor\u001b[0m \u001b[0mx\u001b[0m \u001b[0;32min\u001b[0m \u001b[0mreduced\u001b[0m\u001b[0;34m:\u001b[0m\u001b[0;34m\u001b[0m\u001b[0;34m\u001b[0m\u001b[0m\n\u001b[0;32m----> 2\u001b[0;31m     \u001b[0;32mif\u001b[0m \u001b[0mstemmingindo\u001b[0m\u001b[0;34m(\u001b[0m\u001b[0mx\u001b[0m\u001b[0;34m[\u001b[0m\u001b[0;36m0\u001b[0m\u001b[0;34m]\u001b[0m\u001b[0;34m,\u001b[0m\u001b[0mdlist\u001b[0m\u001b[0;34m)\u001b[0m \u001b[0;32mnot\u001b[0m \u001b[0;32min\u001b[0m \u001b[0mdlist\u001b[0m\u001b[0;34m:\u001b[0m\u001b[0;34m\u001b[0m\u001b[0;34m\u001b[0m\u001b[0m\n\u001b[0m\u001b[1;32m      3\u001b[0m         \u001b[0mprint\u001b[0m\u001b[0;34m(\u001b[0m\u001b[0mx\u001b[0m\u001b[0;34m[\u001b[0m\u001b[0;36m0\u001b[0m\u001b[0;34m]\u001b[0m\u001b[0;34m,\u001b[0m\u001b[0mx\u001b[0m\u001b[0;34m[\u001b[0m\u001b[0;36m1\u001b[0m\u001b[0;34m]\u001b[0m\u001b[0;34m)\u001b[0m\u001b[0;34m\u001b[0m\u001b[0;34m\u001b[0m\u001b[0m\n",
      "\u001b[0;31mNameError\u001b[0m: name 'stemmingindo' is not defined"
     ]
    }
   ],
   "source": [
    "for x in reduced:\n",
    "    if stemmingindo(x[0],dlist) not in dlist:\n",
    "        print(x[0],x[1])"
   ]
  },
  {
   "cell_type": "code",
   "execution_count": 20,
   "metadata": {},
   "outputs": [
    {
     "name": "stdout",
     "output_type": "stream",
     "text": [
      "stem :  belia\n",
      "stem :  bias\n",
      "stem :  buah\n",
      "stem :  bumbu\n",
      "stem :  kami\n",
      "stem :  keanu\n",
      "tidak ditemukan :  keanu 3\n",
      "stem :  pedas\n",
      "stem :  makan\n",
      "stem :  makan\n",
      "stem :  beli\n",
      "stem :  beli\n",
      "stem :  yakin\n",
      "stem :  pasar\n",
      "stem :  peda\n",
      "stem :  pergi\n",
      "stem :  reeves\n",
      "tidak ditemukan :  reeves 3\n",
      "stem :  rujak\n",
      "stem :  santa\n",
      "stem :  saya\n",
      "stem :  sampai\n",
      "stem :  setela\n",
      "stem :  sungguh\n",
      "stem :  sebut\n"
     ]
    }
   ],
   "source": [
    "for x in reduced:\n",
    "    stem = stemmingindoalt(x[0],dlist)\n",
    "    print(\"stem : \",stem)\n",
    "    if stem not in dlist:\n",
    "        print(\"tidak ditemukan : \",x[0],x[1])"
   ]
  },
  {
   "cell_type": "code",
   "execution_count": 21,
   "metadata": {},
   "outputs": [],
   "source": [
    "import os\n",
    "lokasi = '../scraping/detik/berita/raket/'\n",
    "berita = []\n",
    "for filename in os.listdir(lokasi):\n",
    "    f = open(lokasi+filename,'r')\n",
    "    berita.append(f.read().replace('\\n',''))\n",
    "    f.close()"
   ]
  },
  {
   "cell_type": "code",
   "execution_count": 22,
   "metadata": {},
   "outputs": [
    {
     "name": "stdout",
     "output_type": "stream",
     "text": [
      "['Di tengah anjuran di rumah saja, detikSport melakukan perbincangan dengan petenis Aldila Sutjiadi. Ada banyak hal yang dibahas dengan petenis 24 tahun itu.Peraih medali SEA Games 2019 Manila ini sedang vakum bermain karena pandemi virus Corona. Memang, penyebaran COVID-19 membuat dunia olahraga lumpuh termasuk tenis.Berikut petikan wawancara dengan Aldila pada Kamis (30/4/2020) melalui sambungan telepon.DetikSport (D) : Aldila, bisa ceritakan aktivitas kamu selama 1,5 bulan di rumah?Aldila (A): Sekarang sih tetap latihan tapi tak seintens biasanya. Saya melakukan latihan pada pagi hari dengan satu sesi sekitar 2 sampai 2,5 jam dan tidak setiap hari di lapangan Pantai Indah Kapuk, Jakarta. Itu pun setiap 4 kali seminggu dan untuk latihan fisiknya di rumah.D : Apakah pelatih masih memberikan program kepada kamu dan petenis lain?A: Untuk latihan teknik masih ada pelatihnya cuma dia tak mewajibkan ikut latihan. Lebih fleksibel juga waktunya. Kalau fisik, kami diberi program melalui aplikasi Zoom sehingga bisa barengan dengan teman-teman lainnya.D : Apakah dengan penyetopan turnamen ini mempengaruhi ranking kamu?A: Ranking setiap tahun biasanya hilang tapi untuk sekarang dibekukan sampai turnamen kembali.D: Penyetopan turnamen dan pembekuan ranking apakah semakin memperbesar peluang ke Olimpiade? Apalagi multi eventnya diundur tahun depan.A: Tenis itu tidak ada babak kualifikasi. Berbeda dengan cabang olahraga lain. Kalau cabor lain mungkin ada kesempatan seperti pra-kualifikasi, lalu kualifikasi. Kalau tenis langsung.Sebelumnya sudah ada jatah untuk mendapatkan wild card (zona) Asia, dari Asian Games. Tapi hanya juara tunggal putra dan tunggal putri. ', 'Pelatih bulutangkis ganda putra Indonesia, Herry Iman Pierngadi, menilai keputusan BWF untuk menggulirkan kompetisi mulai Agustus terlalu terburu-buru. Itu karena kondisi tiap negara soal virus Corona tak sama.Usai menangguhkan 13 turnamen karena pandemi COVID-19, Badminton World Federation (BWF) mengumumkan kompetisi mulai lagi Agustus mendatang. Ajang dibuka dengan Hyderabad Open 2020 di India, pada 11-16 Agustus nanti, menyusul 21 jadwal turnamen lainnya.Namun, pengumuman itu tersebut tak sepenuhnya direspons positif oleh pelatih dan pemain di dunia bulutangkis. Salah satunya Herry, yang tak segan menyatakan ketidakpuasan.\"Menurut saya terburu-buru. Harus lihat situasi dan kondisi negara. Tiap negara kan peraturannya enggak sama. Jadi alangkah baiknya pikirkan amannya bagaimana,\" kata Herry dalam sambungan telepon kepada detikSport, Selasa (2/6/2020)\"Jadi menurut saya jangan terlalu cepat-cepat karena ini urusan penyakit dan virus ini riskan juga.\"Sejauh ini, Kevin Sanjaya dkk terus menjalani latihan dengan intensitas rendah dalam kondisi karantina tertutup di Pelatnas PBSI, Cipayung. Bahkan, PP PBSI mengatakan akan menjalani latihan normal mulai 2 Juni. Namun, intensitasnya dibuat bertahap menyesuaikan program yang diberikan pelatih masing-masing sektor.\"Kami masih latihan. Masih sama setengah porsi latihannya. Cuma sekarang banyak ke game pola untuk menjaga feeling balikan pukulan karenalebih mudah meningkatkan fisik ketimbang mengembalikan pukulan,\" ujar pelatih yang dijuluki coach Naga Api ini.', 'Menpora Zainudin Amali mendukung Indonesia Open 2020 digelar November mendatang. Tapi dia juga ingin memastikan kesiapan PP PBSI sebagai penyelenggara.Turnamen bulutangkis Indonesia Open dijadwalkan bergulir 17-22 November di Jakarta. Badminton World Federation (BWF) mengumumkannya setelah menangguhkan hampir 13 turnamen mulai Mei hingga Juli.Pemerintah melalui Kementerian Pemuda dan Olahraga tak masalah dengan jadwal pelaksanaannya. Mereka siap mendukung asal seluruh aspek baik keselamatan dan keamanannya sudah terpenuhi.Diketahui, Indonesia akan menerapkan new normal atau normal baru di tengah pandemi virus Corona. Kebijakan itu rencananya dimulai awal Juni di berbagai daerah, termasuk DKI Jakarta.\"Terkait Indonesia Open kami masih menunggu koordinasi dari PBSI. Kita akan menjadi tuan rumah, kalau memang siap pemerintah akan mendukung,\" kata Amali kepada pewarta via aplikasi Zoom.Kesiapan penyelenggaran dan jaminan keamanan mesti diperhatikan betul untuk kejuaraan ini. Pasalnya, turnamen BWF World Tour 1000 itu bakal mendatangkan puluhan atlet dari berbagai negara.Selain itu, potensi adanya kerumunan penonton juga besar. Bulutangkis seperti diketahui begitu populer dan kejuaraannya senantiasa dipadati penonton.\"Kami bisa membatasi tentang pemain, pelatih, dan panitia penyelenggara, tapi kalau sudah melibatkan penonton siapa yang bisa jamin?\" sambung Amali.\"Hal-hal seperti ini kami akan sangat hati-hati. Jadi mohon bersabar. Pemerintah akan beri dukungan tapi harus dicek dulu apakah sesuai dengan protokol yang ketat,\" ujar politisi Golkar tersebut.', 'PP PBSI merespons langkah Badminton World Federation (BWF) menunda pelaksanaan Indonesia Open 2020. Panitia pelaksana juga menyiapkan alternatif waktu.BWF mengumumkan penundaan sejumlah turnamen pada Senin (6/5) dalam lamannya. Keputusan diambil karena melihat perkembangan virus corona yang berkembang secara global.BWF menunda turnamen mulai Mei hingga Juli 2020. Sebelumnya, belasan turnamen juga sudah terimbas wabah penyakit COVID-19.\"Kami memahami kondisi ini dan mendukung langkah yang diambil BWF karena masa darurat COVID-19 sampai akhir Mei. Jadi Indonesia Open tak mungkin diselenggarakan dengan jadwal awal,\" kata Sekretaris Jenderal PP PBSI Achmad Budiharto dalam rilis yang diterima detikSport.PBSI, sebut Budiharto, menunggu pengaturan jadwal selanjutnya dan berkoordinasi untuk menyiapkan beberapa alternatif waktu yang baik. Sebelumnya, PBSI sempat mengajukan perubahan jadwal Indonesia Open dari 16-21 Juni ke 29 September-4 Oktober.\"Selagi menunggu kepastian tanggal penyelenggaraan Indonesia Open, kami, panitia pelaksana telah melakukan berbagai persiapan di antaranya membuat konsep event. Kami juga memastikan reservasi lokasi penyelenggaraan turnamen, serta rapat koordinasi bagian-bagian terkait,\" ujarnya.', 'Nyaris seluruh turnamen bulutangkis ditunda karena virus Corona. Pemasukan para atlet bulutangkis pun ikut kena imbasnya.Menurut Sekretaris Jenderal PBSI Achmad Budiharto, kondisi dunia yang berada di tengah ketidakpastian akibat COVID-19 memang cukup mempengaruhi para pebulutangkis, baik langsung maupun tidak langsung.\"Saat ini semua sektor mengalami kesulitan, termasuk industri peralatan olahraga yang menjadi sponsor para atlet. Minimnya penjualan produk di tengah wabah COVID-19 pasti membawa pengaruh terhadap cash flow perusahaan dan ini harus kita antisipasi,\" jelas Budiharto dalam rilis yang diterima detikSport, Kamis (7/5/2020).Meskipun begitu, PBSI mengimbau agar pebulutangkis tetap mensyukuri apapun kondisinya. Selama ini, PBSI menjadi salah satu federasi cabor yang dinilai stabil dan mandiri dalam melakukan pembinaan atlet ke jenjang tertinggi.\"Di saat seperti ini kita harus bersyukur karena perjuangan bertahan di tengah wabah COVID-19 tidak gampang. Banyak saudara-saudara kita dari cabang olahraga lain yang tidak seberuntung kita di PBSI,\" jelas Budiharto.\"Oleh karena itu kita harus berperan aktif dalam membangun kembali suasana kompetisi. Kita bantu sesuai dengan peran kita, atlet bisa bantu berkontribusi dengan menjadi duta bulutangkis dalam membangun kembali animo masyarakat untuk bermain bulutangkis demi kembalinya pasar peralatan olahraga,\" lanjutnya.Budiharto juga memberikan wejangan kepada atlet untuk terus berjuang meskipun suasana sedang sulit. Atlet diminta untuk menjaga kepercayaan PBSI atas titel anggota tim nasional yang disandang mereka dan jangan sia-siakan kesempatan yang ada karena tidak semua atlet bisa menjadi bagian tim terbaik di Indonesia.\"Disiplin, keteguhan dan fokus atlet pelatnas harus tetap dijaga, karena atlet harus siap untuk kembali ke arena kompetisi yang semoga saja dalam waktu dekat bisa kembali normal,\" ujarnya.', 'Pebulutangkis Indonesia, Kevin Sanjaya, mengajak masyarakat memerangi virus Corona. Bagaimana caranya?Penyebaran virus Corona atau COVID-19 terus meluas di Indonesia. Kondisi ini membuat berbagai kalangan ikut serta berperang meredam penyebaran.Kevin menjadi salah satu atlet yang tak cuma berdiam diri. Dia bersama Mohammad Ahsan dan Hendra Setiawan, mengajak masyarakat untuk aktif membantu dengan cara berbagi kisah kebaikan di Instagram @yuzuindonesia.Masyarakat cukup berbagi kisah kebaikan di masa virus Corona di kolom komentar akun @yuzuindonesia. Setiap cerita akan ditukarkan dengan 10 masker dan disumbangkan ke tenaga medis yang membutuhkan. Selanjutnya yang berkisah wajib me-mention lima kawannya lagi. Begitu seterusnya.\"Di tengah pandemik ini, mari berbagi kebaikan untuk yang membutuhkan. Kamu bisa ikut menyumbang dan jadi bagian dalam activity #YUZUBerbagi bersama @yuzuindonesia,\" tulis Kevin di akun Instagram pribadinya.Selain itu, Yuzu Isotonic melalui campaign #YuzuBerbagi memberi bantuan kepada sejumlah rumah sakit dan tenaga medis di wilayah DKI Jakarta hingga Bekasi.Daerah-daerah tersebut merupakan wilayah terdampak paling parah wabah Covid-19. Untuk itu Yuzu Indonesia menyumbangkan total 120.000 botol YUZU Isotonic, serta Alat Pelindung Diri (ADP) berupa 10.000 masker medis untuk para tenaga medis serta pasien rumah sakit.Pada Senin (30/3/2020), tiga rumah sakit yang menjadi sasaran kegiatan #YuzuBerbagi ini adalah RS Menteng, Rumah Sakit Cipto Mangunkusumo (RSCM), dan RSUD Pasar Rebo.Lalu selain tiga rumah sakit tersebut, terdapat 10 tempat lain yang menjadi sasaran campaign #YuzuBerbagi yaitu RS Pelabuhan Jakarta, PDPI - Donasi Dokter Paru, Donasi Fakultas Kedokteran Gigi (FKG) Universitas Indonesia (UI), RS Griya Puspa Persahabatan, RSPI Sulianto Saroso, Departemen Mikrobiologi Klinik Fakultas Kedokteran Universitas Indonesia, The Media Hotel, RS PGI Cikini, RS Ananda, Ikatan Dokter Indonesia (IDI) Jakarta Pusat, dan RS Fatmawati.\"Kegiatan #YuzuBerbagi yang kami laksanakan adalah sebagai bentuk dukungan kepada para tenaga medis sebagai garda terdepan memberantas wabah ini, untuk bersama-sama melawan penyebaran Covid-19. Kami berharap #YuzuBerbagi dapat memberikan manfaat yang berarti dan pandemi ini dapat segera berakhir,\" ujar Ryne Anggia Prawesti selaku Head of Brand Portfolio YUZU dalam keterangan pers, Kamis (9/4/2020).So, untuk yang mau ikut berbagi cerita dan memberi bantuan, silakan kunjungi akun Instagramnya.', 'Pebulutangkis Fajar Alfian mengikuti larangan mudik Lebaran dari pemerintah. Dia rela menahan kerinduannya kepada keluarga demi menekan penyebaran corona.Pemerintah secara resmi menerbitkan surat larangan pada Selasa (21/4/2020). Larangan mudik akan berlaku mulai 24 April untuk seluruh masyarakat Indonesia demi menyetop mata rantai penularan penyakit COVID-19. \"Sebenarnya lagi pandemi begini mau mudik agak was-was juga. Jadi saya ikut aturan pemerintah saja,\" kata Fajar kepada detikSport melalui sambungan telepon.Sejauh ini, tanpa ada momen Lebaran, Fajar termasuk atlet yang cukup rutin pulang kampung ke Bandung. Bisa dibilang dua bulan sekali pasti pulang ke rumah. Kebetulan, kampungnya hanya berjarak 151.9 km atau bisa ditempuh dengan waktu 2 jam jika tak terlalu macet. Tapi imbas pandemi, dia belum boleh pulang dan harus isolasi mandiri di Pelatnas PBSI di Cipayung, Jakarta Timur, bersama rekan-rekannya yang lain. \"Maunya ingin di rumah, apalagi Lebaran. Tahun lalu juga tak bisa merayakan bersama keluarga karena ada Australia Open. Sekarang ada pandemi, ya ambil positif saja. Bukan untuk saya pribadi tapi keluarga juga,\" ujarnya. \"Kita tak tahu kondisi di rumah seperti apa, kita juga tak tahu kondisi kita seperti apa, apalagi virus ini tak kelihatan. Jadi menurut saya lebih baik ikut aturan pemerintah saja,\"\"Jadi tahun ini ditahan dulu. Nanti kalau pandemi sudah selesai dan semoga cepat selesai, bisa berkumpul kembali. Karena sekarang ini yang paling utama menjaga kesehatan dulu,\" ujarnya. \"Jangan memikirkan diri sendiri, harus pikirkan lingkungan rumah juga,\" dia menegaskan. ', 'PP PBSI berencana menerapkan latihan intensif usai Lebaran 2020. Wacana itu dibuat untuk mengantisipasi adanya turnamen pada Agustus mendatang.Kepala Bidang Pembinaan Prestasi PBSI, Susy Susanti, mengatakan meski saat ini pelatnas di Cipayung tetap berjalan di sela karantina tertutup di area Pelatnas Cipayung. Akan tetapi, program latihan yang diterapkan tidaklah seperti biasanya.Tujuan utama latihan hanya untuk menjaga kebugaran atlet. Sedangkan, program penuh direncanakan bergulir mulai Agustus.\"Program latihan normal akan berjalan setelah lebaran. Semoga situasinya juga sudah normal kembali,\" kata Susy dalam rilis yang diterima detikSport, Jumat (10/4/2020).PBSI, sebut Susy, merencanakan itu karena atlet akan persiapan menuju turnamen. Dengan catata, turnamen sudah bisa berjalan pada Agustus 2020.Badminton World Federation (BWF) sebelumnya telah memutuskan menunda 13 turnamen mulai Mei hingga Juli 2020 imbas virus Corona. Salah satunya, Indonesia Open yang dijadwalkan 16-21 Juni juga ikut ditangguhkan.PBSI sudah berencana untuk menggesernya ke 29 September-4 Oktober. Namun, mereka masih menunggu pengaturan jadwal selanjutnya dan berkoordinasi untuk menyiapkan beberapa alternatif waktu yang baik.', 'Pelatih bulutangkis ganda putra Indonesia, Herry Iman Pierngadi, berencana memfokuskan atletnya ke turnamen-turnamen 2021 karena jadwal BWF tahun ini juga belum pasti.BWF telah mengumumkan secara resmi bahwa turnamen bulutangkis 2020 bergulir lagi mulai Agustus mendatang. Tapi pelaksanaannya pun masih melihat kondisi terkini virus Corona.Sementara itu, PP PBSI berencana baru akan memfokuskan turnamen mulai September. Di bulan itu level turnamennya tinggi, mulai 300 hingga 1000.\"Ya, kalau melihat planning BWF itu mulainya Agustus di India tapi kelas bawah. Jadi kalau pemain Olimpiade kemungkinan tak main di sana. Yang kedua, jadwal juga belum fixed banget. Kondisi India juga begitu. Apa bisa terima tamu dari negara lain?\" kata Herry dalam sambungan telepon kepada detikSport, Selasa (2/6/2020).\"Jadi untuk sementara kita masih nunggu-nunggu juga. Pemain juga pikir-pikir dan enggak terlalu berani. Jadi buat saya pentingnya pemain (fokus) ke turnamen khusus perhitungan olimpiade nanti saja, 2021,\" ujarnya.Menurut pelatih yang dijuluki fans badminton coach Naga Api ini, hal yang paling dilakukan Kevin Sanjaya dkk fokus latihan sembari menunggu kepastian turnamen bergulir. Meskipun itu, dia menyadari akan ada efek buat para pemainnya.\"Pertama satu sisi kondisi suasana pertandingan berbeda. Tapi negara lain mengalami hal yang sama. Kedua, kemungkinan diadakan tahun ini apa mungkin tanpa penonton? Jadi banyak kemungkinan lah dan harus dipikirkan. Nomor satu kan keselamatan harus dijaga. Jadi jangan kita tak terlalu mikirin itu,\" ucap Herry IP.', 'Kepala bidang Pembinaan Prestasi PBSI Susy Susanti berharap keputusan BWF menggulirkan kembali turnamen sudah bulat. Dia tak ingin federasinya kembali merugi. Menurut Susy, pembatalan sejumlah turnamen yang terjadi sejak virus corona mewabah secara global sempat membuat PBSI menguras kantung pendanaan. Bagaimana tidak, pendaftaran turnamen, booking hotel yang jauh-jauh hari dibayarkan terpaksa hilang. Dia berharap jadwal baru yang diumumkan Badminton World Federation (BWF) itu sudah memiliki jaminan dari si penyelenggara.\"Mungkin pertandingan sudah dijadwalkan tapi kesiapan itu dari panitia seperti apa? Kami kan harus yakin juga, bisa jamin enggak protokol kesehatannya. Lalu di sana diizinkan tidak,\" kata Susy kepada detikSport, Kamis (28/5/2020).\"Karena (meskipun) BWF sudah menjadwalkan tapi kalau di menit terakhir batal? Pertama sudah daftar, kedua booking hotel, nah itu yang terjadi pada waktu Januari lalu. Sampai terakhir lima pertandingan, cancel-cancel, kami habis berapa ratus juta, dan BWF tidak bertanggung jawab atau penundaan turnamen dan apa yang sudah dikeluarkan,\" dia menegaskan. \"Jadi banyak faktor yang kami pikirkan selain keselamatan dan kesehatan atlet yang utama, ini juga menyangkut di budget. Jangan setelah daftar dan booking kemudian batal lalu yang menanggung kami juga. Jadi kami harus melihat ke sana juga, tapi yang utama keselamatan atlet dan keamanan negara itu untuk menjamin,\" tambahnya.Susy menyebut, ada 63 negara yang belum bisa menerima warga negara Indonesia untuk masuk. \"Itu terakhir yang saya tahu. Nah, hanya China, Jepang, Hong Kong yang menerima kami, yang lainnya tak terima, terus bagaimana? Jadi kami masih perlu menanyakan lagi, proaktif, bukan hanya BWF, tapi dari sisi kita dan penyelenggara juga,\" kata istri dari legenda bulutangkis Alan Budikusuma ini. \"Tapi sembari itu atlet tetap disiapkan dengan programnya karena Juni kita masuk pelatnas yang pelan-pelan naik dan normal lagi meskipun dengan SOP kesehatan pemerintah,\" tutupnya. ', 'Pengurus Pusat Persatuan Tenis Lapangan Indonesia (PP Pelti) kembali menjalani pemusatan latihan nasional di kawasan GBK. Tapi baru sektor putri.Menpora Zainudin Amali telah mengizinkan cabang olahraga untuk menjalani latihan terpusat setelah nyaris tiga bulan tanpa agenda olahraga karena wabah virus corona.Hal itu seiring dengan kebijakan pemerintah, khususnya DKI Jakarta, yang menerapkan transisi pembatasan sosial skala besar. Akan tetapi, induk cabor harus mengajukan proposal kepada Kemenpora dan PPK GBK. Tenis termasuk salah satu yang telah mengajukan penggunaan lapangan tenis di Gelora Bung Karno, Senayan.Ketua umum PP Pelti, Rildo Ananda Anwar, mengatakan Aldila Sutjiadi dkk sudah mulai berlatih di lapangan tenis GBK.\"Kami sudah mulai latihan sejak pekan lalu, jadi hari ini kami melakukan kompetisi internal. Di antara pemain saja tapi khusus putri saja. Totalnya enam atlet,\" kata Rildo kepada detikSport, Selasa (16/6/2020).\"Untuk putra belum. Kemungkinan pekan depan karena rata-rata mereka masih berada di luar kota. Tapi mereka tetap latihan mandiri juga,\" ujarnya.Selama menjalani latihan, Rildo menjelaskan, timnya menerapkan protokol kesehatan seperti cuci tangan baik saat jeda maupun usai latihan. Begitu saat penggunaan handuk untuk mengelap keringat, mereka diminta untuk mencuci tangan lebih dulu.\"Jadi sebisa mungkin harus bersih. Kami masuk GBK pun dicek dulu suhu tubuhnya. Setelah itu, kami menggunakan aturan dari protokol kami sendiri,\" kata dia.Menyoal rencana untuk menggelar turnamen, Rildo enggan berspekulasi. Dia masih harus berkomunkasi dengan International Tennis Federation (ITF) dan pemerintah.\"Nanti kami lihat jika sudah memungkinkan. Karena ada aturan dari pemerintah soal menghindari penonton dalam jumlah besar. Tenis memang risikonya paling kecil karena tidak body contact, double pun jaraknya tetap jauh. Kami tunggu regulasinya saja. Kami juga harus berkoordinasi dengan ITF. Apakah ada pertandingan yang kami mulai karena sudah mulai masuk poin,\" tegas dia.', 'Petenis Indonesia Aldila Sutjiadi ikut meramaikan tantangan Pass The Brush Challenge 2020. Tak sendiri, dia mengajak rekan-rekannya serta sang pelatih. Pass The Brush Challenge adalah tantangan dengan cara melempar brush make up secara bergilir. Kemudian seseorang itu menggosok-gosoknya brush ke arah kamera dan menampilkan perubahan dari sebelum dan sesudah make up. Nah, momen tantangan itu pun terekam dalam sebuah video yang ia unggah dalam akun Instagram, @dila11. \"Indonesian women tennis team taking over #passthebrushchallenge #ayotenis #justforfun,\" tulisnya seraya menandai rekan-rekannya seperti juara Australia Open 2020 Priska Nugroho, dan peraih emas SEA Games 2019 ganda putri Jessie Rompies dan Beatrice Gumulya.Tak sekadar perubahan wajah, mereka meniru tokoh putri dalam film animasi. Beatrice sebagai Merida di film Brave, Priska sebagai Moana, kemudian Jessy layaknya film Lilo and Stitch, Janice Tjen sebagai Mulan, sedangkan Priska sebagai wonderwomen, dan pelatihnya seolah-olah almarhum penyanyi Chrisye. Dalam video berdurasi lebih dari dua menit itu, mereka juga memasukkan sejumlah potongan video di belakang layar. Tak ayal, momen keseruan itu pun mendapat respons beragam dari para pengikutnya dan telah ditonton sebanyak 5.092 kali. Diketahui, para petenis Indonesia sedang vakum bermain karena pandemi virus corona. Tapi mereka tetap menjalani latihan di kawasan Pantai Indah Kapuk, Jakarta, untuk menjaga perfoma andai turnamen kembali dipulihkan. ', 'Atlet pelatnas PBSI, Cipayung, kini bisa bernapas lebih lega. Rapid test virus Corona yang dijalani seluruh atlet hasilnya negatif.Demikian disampaikan Sekretaris Jenderal PP PBSI Achmad Budiharto. Dia menjelaskan, PBSI telah melakukan tes kepada seluruh tim All England dan atlet yang berada di Pelatnas Cipayung. Hasilnya, cukup menggembirakan.\"Hasil rapid test atlet semua negatif Covid-19. Sudah dilakukan tes untuk tim All England dan atlet yang berada di Pelatnas Cipayung,\" kata Budiharto dalam rilis yang diterima detikSport, Selasa (31/3/2020).\"Sekarang tim All England juga tidak dipisahkan lagi secara khusus, kalau sebelumnya makan harus diantar ke kamar, sekarang sudah bisa makan di ruang makan seperti atlet yang lain. Tapi masih ada penerapan social distancing,\" ucap dia menambahkan.Tim kesehatan PBSI ikut menegaskan, kondisi atlet saat ini semua dalam keadaan baik. Secara khusus tim All England yang dipantau lebih ketat sepulangnya dari Inggris.Tim All England sebelumnya telah melewati masa isolasi mandiri selama 14 hari sesuai dengan prosedur yang ditetapkan. Kelompok pertama All England 2020 tiba di Indonesia pada 15 Maret 2020, disusul tim kedua pada 17 Maret 2020.\"Tim All England sudah clear semua. Tetapi ingat, walaupun hasil rapid test negatif, semua harus tetap jaga kondisi tubuh dengan jaga jarak dan rutin minum vitamin,\" kata dr. Octaviani, salah satu dokter PBSI, menimpali.\"Kami masih terus pantau selagi wabah Covid-19 belum reda,\" tegas dia.', 'Pelatih ganda putra, Herry Iman Pierngadi, menilai penundaan Olimpiade hingga tahun depan menimbulkan tantangan buat atlet. Khususnya Hendra Setiawan/Mohammad Ahsan. Indonesia melalui bulutangkis sejatinya telah meloloskan dua wakilnya di sektor ganda putra. Selain Kevin Sanjaya Sukamuljo/Marcus Fernaldi Gideon, juga pasangan gaek Hendra/Ahsan.Bagi Hendra/Ahsan, lolos Olimpiade menjadi kali kedua selama mereka berpasangan. Empat tahun lalu di Rio de Janeiro, juara All England 2019 itu terhenti di fase grup setelah hanya mendapat satu kemenangan dari tiga laga yang mereka jalani.Dengan Olimpiade Tokyo yang resmi diundur setahun memunculkan tantangan besar bagi Hendra/Ahsan. Terutama fisik karena mereka sudah tak lagi muda. Jika perhitungan Olimpiade digelar 2021, maka Hendra bertanding di usianya menjelang 37 tahun, sementara Ahsan 34 tahun. Herry mengatakan perlu ada treatment khusus yang dia siapkannya untuk pasangan ranking dua dunia tersebut. \"Dengan diundur tahun depan maka umur Hendra/Ahsan ikut bertambah. Otomatis fisik akan menurun karena usia tak bisa bohong. Jadi persiapannya harus khusus banget,\" kata Herry kepada detikSport, Jumat (27/3/2020). \"Tapi masalah ini (penundaan) kan memang baru banget. Tiga hari lalu diumumkan. Sedangkan kami setelah All England, kami dikarantina, belum ketemu lagi. Jadi belum ada pembicaraan ke depannya seperti apa,\" dia menjelaskan. \"Kalau sudah reda baru dipikirkan (seperti apa). Intinya, jangan ngomong prestasi dulu, yang penting keselamatan jiwa dulu, jangan kena virus corona, kan gitu,\" ujarnya. ', 'Setelah PP PBSI melakukan isolasi mandiri di pelatnas Cipayung, pebulutangkis nasional juga harus bertanggung jawab dengan kondisinya sendiri. Anthony Sinisuka Ginting salah satu yang mengalaminya.Saat ini Anthony tak dapat menjalankan latihan normal, paling tidak hingga akhir Mei mendatang karena pandemi virus Corona. Pemerintah DKI Jakarta telah membatasi ruang gerak masyarakat dengan Pembatasan Sosial Berskala Besar (PSBB) sampai 29 Mei.\"Sebetulnya balik ke atletnya masing-masing, meskipun enggak bisa latihan, tetap harus tanggung jawab sama kondisinya,\" kata Anthony dalam rilis yang diterima detikSport.\"Menyempatkan gerak, jaga kondisi, tapi mungkin intensitasnya enggak bisa sama seperti biasanya. Setidaknya kondisi jangan sampai drop,\" ucapnya.Apalagi, sebut Anthony, kegiatan di asrama juga terbatas. Hanya makan, tidur, dan stretching. \"Begitu saja, diulang lagi besoknya. Paling main game atau nonton film.\"\"Berbeda jika bisa kumpul keluarga dan situasinya mendukung. Tapi ini jarang bertemu dan kondisinya juga tidak kondusif jadi liburannya juga enggak panjang,\" lanjut pemain asal klub SGS PLN Bandung ini.Di sisi lain, juara Indonesia Masters 2018 itu juga harus mempersiapkan dirinya menuju Olimpiade Tokyo tahun depan. Bersama Jonatan Christie, Anthony menjadi salah satu atlet yang diandalkan di multievent empat tahunan tersebut.\"Saya coba ambil positifnya aja, malah ada kesempatan dan waktu lagi untuk persiapan,\" tutur Anthony.', 'PP PBSI dan PPK Gelora Bung Karno sedang merundingkan jadwal Indonesia Open 2020. Padatnya aktivitas di Istora menjadi pemicunya.Indonesia Open semula akan digelar 16-21 Juni. Namun, karena pandemi virus Corona, perhelatan tahunan itu mesti dijadwal ulang.Reservasi telah dilakukan oleh pihak panitia pelaksana. PBSI langsung berkoordinasi dengan PPK GBK dan mereka pun mengerti.\"Kami secara resmi sudah menyampaikan kepada pihak Istora bahwa event ditunda dari jadwal awal. Tapi sampai kapannya, kami bilang masih menunggu keputusan BWF dan pihak Istora mengerti keadaannya,\" ujar Sekretaris Jenderal PBSI, Achmad Budiharto dalam rilis yang diterima detikSport.Sampai kini, PBSI bersama manajemen Istora terus mencari opsi terbaik untuk penyelenggaraan turnamen BWF World Tour Super 1000 tersebut. Meskipun, sebut Budiharto, tantangannya jadi lebih besar dan berat karena reservasi Istora cukup padat, akibat banyak acara yang ditunda. Kegiatan itu diundur karena pandemi virus corona.\"Kami minta dibuatkan beberapa alternatif ke manajemen Istora, kira-kira dari September sampai Desember. Kemudian, akan kami sampaikan ini ke BWF dan dicari mana yang cocok jadwalnya,\" dia menjelaskan.Indonesia juga punya satu turnamen level Super 100 yaitu Indonesia Masters. Agenda olahraga itu juga berpeluang digelar di bulan yang sama dengan Indonesia Open, September.Sementara itu, turnamen internasional lainnya digelar bulan berikutnya. Seperti Pembangunan Jaya Raya Junior Grand Prix 2020 (18-23 Agustus), Victor Exist Jakarta Open Junior International Series 2020 (8-13 September 2020) dan Indonesia International Challenge 2020 (20-25 Oktober).\"Ini juga akan jadi keputusan BWF nantinya, BWF akan pertimbangkan semua aspeknya, kami tidak punya pilihan. Apapun yang diputuskan BWF, itu adalah keputusan yang terbaik. Tetapi sampai saat ini belum ada pembicaraan soal itu,\" ujarnya.', 'PP PBSI mengambil hikmah positif dari penundaan Kejuaraan Dunia Bulutangkis Junior 2020. Mereka jadi punya waktu untuk menyusun program. Kejuaraan Dunia Junior 2020 rencananya berlangsung di Auckland, Selandia Baru, 28 September-11 Oktober. Namun, kegiatan itu mundur ke tahun depan karena mempertimbangkan kondisi terkini virus corona. Ajang yang merupakan kejuaraan paling bergengsi di kelas U-19 itu pun diputuskan bergulir 11-24 Januari. Namun lebih dulu dibuka dengan pertandingan nomor beregu campuran yang memperebutkan Piala Suhandinata pada 11-16 Januari 2021. Indonesia dengan status juara bertahan di nomor beregu mengambil kesempatan mundurnya kejuaraan dengan mematangkan program. \"Kami bersyukur sudah ada kepastian waktu penyelenggaraan World Junior Championship (WJC), sehingga kami dapat segera menyusun program persiapan untuk para pemain junior,\" kata Sekretaris Jenderal PBSI, Achmad Budiharto, dalam rilis yang diterima detikSport.Akan tetapi, sebut Budiharto, penundaan ini juga menjadi tantangan berat untuk para pemainnya. Bagaimana tidak, di awal tahun para atlet langsung disodori turnamen level tinggi. \"Karena dari sekarang sampai akhir tahun ini belum ada kepastian lagi untuk turnamen pemain junior. Mereka langsung bertanding di WJC sehingga waktu berkompetisinya berkurang. Ini jadi tantangan berat untuk mereka,\" ujarnya. Tak hanya itu, peluang atlet mengikuti dua kali kejuaraan dunia pada tahun depan juga besar terjadi. Merujuk pada Kalender Bulutangkis 2021, BWF juga telah memasukkan Kejuaraan Dunia Junior 2021 pada 4-17 Oktober. \"Bisa jadi akan ada dua WJC di tahun depan karena mengacu dari kalender yang sudah dijadwalkan BWF,\" kata Kasubid Hubungan Internasional PP PBSI, Bambang Roedyanto. ', 'PP PBSI menyambut positif kebijakan new normal yang diserukan pemerintah dalam menghadapi pandemi virus Corona. Mereka siap menyesuaikan diri. New normal merupakan perubahan perilaku untuk tetap menjalankan aktivitas normal namun tetap menerapkan protokol kesehatan untuk mencegah penularan COVID-19. Pemerintah Indonesia memberlakukan new normal mulai 1 Juni mendatang. Nah, di lingkup olahraga khususnya bulutangkis, aktivitasnya akan berjalan normal kembali mulai 2 Juni mendatang. Akan tetapi semua menyesuaikan pencabutan kebijakan pembatasan sosial berskala besar. \"Kami melihat new normal itu tujuannya baik ya. Kami melihat tujuannya untuk menjaga keselamatan, kesehatan semuanya, ini yang harus juga kita ketahui,\" kata sekretaris jenderal PBSI, Achmad Budiharto, kepada detikSport, Rabu (27/5/2020). \"Ya, kami harus menyesuaikan diri, harus beradaptasi dengan itu, karena kita bukan merupakan sesuatu yang mendapatkan keistimewaan atau tidak. Itu malah tidak baik. Kita harus menyesuaikan dengan norma-norma baru yang diterapkan di Indonesia sendiri,\" lanjut dia.Kemenpora sebagai kepala induk olahraga menyerahkan kepada federasi cabor dalam penerapan new normal tersebut. Apakah itu terkait kapan jadwal kompetisi akan kembali bergulir hingga persiapannya. Khusus bulutangkis akan menggelar Indonesia Open 2020 pada 17-22 November di Jakarta. \"Saya kira sama (menyesuaikan dengan cabor). Kita pasti hubungannya banyak dengan aparat, masyarakat, jadi yang berlaku di sana seperti apa? Jadi itu yang perlu kami perhatikan,\" ujarnya. \"Ya, mudah-mudahan saat itu (Indonesia Open) sudah normal, sudah berjalan, dan tidak menjadi satu halangan untuk semuanya,\" harap Budiharto. ', 'Badminton World Federation (BWF) resmi menunda penyelenggaraan Indonesia Open 2020 karena pandemi virus corona. Penangguhan itu diikuti 12 turnamen lainnya.Seperti dikutip dari laman BWF, Senin (6/4/2020), keputusan itu diambil setelah adanya kesepakatan dengan masing-masing tuan rumah penyelenggara, serta konfederasi kontinental.Adapun turnamen yang disetujui untuk ditunda adalah yang dijadwalkan digelar Mei hingga Juli. Ada tiga turnamen BWF World Tour yang terdampak, salah satunya Indonesia Open (Super 1000) yang sedianya dihelat 16-21 Juni.\"Meningkatnya pandemi Covid-19 secara global membuat seluruh pihak mengonfirmasi penangguhan turnamen ini. Kesehatan, keselataman, dan kesejahteraan semua atlet, ofisial, dan komunitas bulutangkis menjadi prioritas utama,\" tulis BWF menyoal alasan penundaan.Sebelumnya, BWF juga telah membekukan peringkat dunia atlet elite dan junior sampai waktu yang belum ditentukan. Daftar peringkat yang ditangguhkan terhitung sampai 17 Maret 2020.BWF juga mengkaji dampak penjadwalan Olimpiade dan Paralimpiade 2020 pada sistem kualifikasi. Rencananya, proses peninjauan ini akan memakan waktu sampai beberapa minggu sebelum akhirnya BWF mengumumkan keputusannya.Berikut jadwal turnamen yang ditangguhkan:Turnamen Internasional Grade 2:Australian Open 2020 (2 - 7 Juni)Thailand Open 2020 (9 - 14 Juni)Indonesia Open 2020 (16 - 21 Juni)Russian Open 2020 (7 - 12 Juli)Turnamen Grade 3, Turnamen Junior, dan Para:Denmark Challenge 2020 (7 - 10 Mei)Slovenia International 2020 (13 - 16 Mei)Latvia International 2020 (28 - 31 Mei)Vietnam International Challenge 2020 (2 - 7 Juni)RSL Lithuanian International 2020 (4 - 7 Juni)Canada Para Badminton International 2020 (9 - 14 Juni)Russian International Junior White Nights 2020 (25 - 28 Juni)White Nights 2020 (1 - 5 Juli)Kejuaraan Bulu Tangkis Junior All England 2020 (16 - 19 Juli)', 'Federasi Bulutangkis Dunia (BWF) sudah berencana menggulirkan turnamen mulai Agustus. Ini langkah Pengurus Pusat Persatuan Bulutangkis Seluruh Indonesia (PP PBSI) demi menjamin keselamatan atlet RI yang akan berlaga nantinya.Usai menangguhkan hampir 13 turnamen mulai Mei hingga Juli karena wabah virus corona, BWF kembali menggulirkan turnamen bulutangkis dunia mulai Agustus mendatang. Total ada 22 turnamen dari level 300 hingga 1000 yang akan berlangsung hingga Desember 2020.Mengingat pandemi virus Corona belum sepenuhnya berakhir, PBSI akan berkomuniksi dengan BWF dan kedutaan Indonesia di luar negeri demi memastikan status negara yang akan dikunjungi. Termasuk penerimaan Warga Negara Indonesia (WNI) ke negara tertentu.\"Saya tidak melihat travel warning-nya, maksudnya tidak melihat apakah ada perubahan atau tidak. Kami masih memakai aturan atau informasi yang dulu mereka keluarkan. Ini kan baru awal (rilis jadwal), setelah itu mungkin ada langkah konkret dan segera berkomunikasi dengan BWF,\" kata Sekretaris Jenderal PBSI Achmad Budiharto kepada detikSport, Rabu (27/5/2020).\"Nah, terkait rencana kami akan ke mana saja, pasti kami akan berkomunikasi dengan perwakilan-perwakilan kedutaan di negara yang akan kami kunjungi secara konkret. Situasinya seperti apa, regulasinya seperti apa, juga keamanan dan keselamatan pemain akan lebih diutamakan,\" ujarnya.Situasi kasus positif corona di Indonesia sejauh ini memang bukan tak mungkin berdampak pada kedatangan WNI ke satu negara. \"Sampai sekarang saya tidak dengar itu (pelarangan WNI datang). Mudah-mudahan saja tidak ada,\" harap Achmad Budiharto.', 'Pebulutangkis senior ganda putra Hendra Setiawan tak sabar segera bertanding lagi. Dia ingin kembali merasakan bulan-bulan padat karena turnamen.Hendra dan pebulutangkis lainnya sudah lebih dari dua bulan tak menjalani pertandingan. Turnamen disetop karena virus Corona yang menyebar ke banyak penjuru dunia.\"Sebenarnya kalau jenuh atau tidak? Ya yang saya rasakan sekarang ingin bertanding,\" kata Hendra dalam live Instagram dengan Badminton Indonesia.\"Biasakan sebulan pasti ada dua tiga pertandingan. Jadi ya dinikmati saja. Setelah ini kalau (benar-benar) dimulai kan padat banget,\" ujar pebulutangkis 35 tahun itu.BWF telah mengumumkan akan memulai turnamen pada Agustus 2020. Total ada 22 jadwal turnamen yang diumumkan akan segera bergulir.PP PBSI sebagai induk organisasi bulutangkis tertinggi di tanah air mengatakan lebih fokus memfokuskan pertandingan-pertandingan di September. Mulai dari Taipei Open, Korea Open, China Open, Japan Open, hingga Piala Thomas dan Uber pada Oktober 2020.\"Kalau (mengikuti) lima (turnamen) beruntun pasti tak mungkin. Paling pilih-pilih. Belum tahu juga dan kalau jadi juga pertandingannya,\" kata juara All England 2019 ini.\"Saya pribadi tak apa. Istilahnya saya lebih baik (jadwal turnamen) mundur daripada lagi pertandingan tapi tak tenang. Istialahnya biar hilang dulu (virus corona) tak apa, yang penting jaga kondisi supaya tahun depan masih kuat,\" dia mengharapkan.', 'Pebulutangkis Jonatan Christie memetik pelajaran dari bencana virus corona yang berimbas pada penundaan hampir seluruh agenda olahraga termasuk Olimpiade. Olimpiade Tokyo 2020 diumumkan ditunda hingga tahun depan. Jauh sebelum multievent empat tahunan itu, pelbagai kualifikasi cabang olahraga telah mengalami pembatalan.Kondisi ini membuat aktivitas atlet otomatis ikut berhenti sementara. Terlebih, di beberapa negara sudah mengimbau masyarakatnya untuk tetap di rumah, mengisolasi diri dari keramaian, guna menyetop penyebaran wabah penyakit menular Covid-19. Termasuk Indonesia yang kini kasusnya sudah mencapai 1.046 orang terpapar corona, 46 di antaranya sembuh, dan 87 orang meninggal dunia.\"Persiapan kami dan pemain dari semua negara pasti terganggu selama Corona masih mewabah, jadi menurut saya memang sebaiknya diundur,\" kata Jonatan dalam rilis yang diterima detikSport, Jumat (27/3/2020). \"Ditunda itu kan untuk kebaikan dan kesehatan semua manusia. Olimpiade bukan hal yang harus dilakukan saat ini juga karena sekarang yang lebih penting adalah menghentikan penyebaran Covid-19 agar tidak semakin banyak korban,\" ujar pemain ranking tujuh dunia tersebut.Lebih dari itu, juara New Zealand Open 2019 ini mengatakan bencana ini bagian dari pelajaran hidup yang harus sama-sama direnungkan oleh setiap orang.\"Ya mungkin ini jadi salah satu pelajaran buat kita semua, bukan cuma dunia olahraga tapi semua, supaya berhenti sejenak dari kesibukan kita sehari-hari dan beristirahat serta merenung, apa saja hal positif yang bisa kita ambil dari kejadian ini,\" ujarnya.', 'Atlet tunggal putra, Jonatan Christie, punya kesibukan baru di tengah pandemi virus corona. Dia bikin smoothies. BWF menyetop seluruh turnamen bulutangkis karena virus corona. Setidaknya, tak ada pertandingan hingga Juli mendatang. Jonatan Christie pun mengisi waktu luangnya dengan melakukan hobi baru. Dia belajar membuat menu makanan sendiri. Bukan sembarang menu, makanan yang ia sebut smoothies itu merupakan bagian dari programnya menjaga tubuhnya lebih ramping. Hal itu ia ungkapkan disela-sela Live Instagram dengan Badminton Indonesia, Minggu (17/5/2020). \"Sebelumnya kan kita ada menu, maksudnya bukan sekarang enggak ada menu. Tapi ada menu yang, saya waktu itu kan ingin lebih kering (badan) jadi ada pola yang harus benar-benar dijaga. Jadi harus makan ini-ini. Ya, walaupun tetap ada disediakan di kantin cuma ada khusus untuk menurunkan berat badan,\" kata Jonatan.\"Karena ini masa karantina jadi ada yang dikurangi. Jadi mau tak mau bagaimana caranya melakukan hal yang mungkin caranya beda tapi hasilnya sama. Jadi bukan sekadar iseng (masak) tapi ada jaga juga. Dan kebetulan kemarin lagi suka lihat yang masak-masak, jadi ingin coba masak yang gampang dan tidak ribet. Smoothies kan gampang,\" dia menjelaskan.Lantas sudah berapa masakan yang peraih medali emas Asian Games 2018 itu sukses dibuat?\"Kalau masak, masak apa ya? Jujur di sini susah mesti ada bahan-bahannya dan kokinya juga. Jadi tak enak kalau ganggu, jadi cari yang gampang itu ya smoothies,\" ujarnya. Tak hanya menyalurkan hobi, juara New Zealand 2019 juga melakukan hal yang hampir jarang dilakukan ketika di asrama, yakni menyapu dan mengepel. \"Piket asrama putra putri, semua dapat jatah piket. Setiap piket ada tiga sampai empat orang untuk menyapu, mengepel, buang sampah, sikat kamar mandi. Nah, kebetulan hari ini saya piket. Cuci baju sendiri juga,\" ungkap dia.Untuk diketahui, Jonatan dkk telah berada di asrama sejak 1,5 bulan lalu. Mereka menjalani karantina dengan tidak meninggalkan aktivitas latihan namun tidak penuh. ', 'Pebulutangkis Mohammad Ahsan mengikuti aturan pemerintah untuk tak mudik tahun ini. Hal ini demi kebaikan bersama.Pemerintah mengeluarkan larangan mudik untuk seluruh masyarakat Indonesia mulai 24 April. Aturan itu diberlakukan untuk menyetop wabah virus corona yang sudah meluas hampir di semua daerah tanah air. Ahsan menilai keputusan pemerintah saat ini sangat lah tepat. Apalagi ini demi kebaikan bersama. \"Saya rasa keputusan (pemerintah) saat ini memang cukup baik,\" kata Ahsan kepada detikSport, Rabu (22/4/2020).Ahsan didukung dengan rutinitasnya sebagai atlet yang jarang pulang kampung karena terbentur dengan jadwal turnamen. Khusus tahun ini, hari raya Idul Fitri nyaris berbenturan dengan pelaksanaan Piala Thomas dan Uber 2020 Denmark.Sebelum akhirnya BWF memutuskan untuk menangguhkan ke September mendatang dan ada kemungkinan dijadwalkan kembali karena pandemi virus corona di negara tersebut. \"Sebenarnya (Lebaran) ini belum ada rencana mudik karena kalau. Tak salah pas lagi Thomas Cup juga. Makanya, paling video call saja (buat mengakali tak pulang) atau kumpul saat sudah pulang (turnamen),\" ujarnya. \"Ya, mungkin untuk saat ini harus bersabar dulu demi kebaikan bersama,\" imbuhnya. ', 'Ganda campuran Praveen Jordan/Melati Daeva Oktavianti diganjar bonus oleh PB Djarum atas keberhasilannya menjuarai All England. Tak seperti biasanya, seremoni bonus dilakukan secara virtual. Pandemi virus corona yang terjadi secara global membuat ruang gerak para atlet untuk bisa menghadiri acara seremoni pemberian bonus terbatas. Akan tetapi, PB Djarum tetap menggulirkannya meski berlangsung Kamis (11/6/2020) pukul siang.Bonus diberikan setelah Praveen/Melati berhasil menjuarai turnamen BWF World Tour Super 1000 itu mengalahkan pasangan Thailand Dechapol Puavaranukroh/Sapsiree Taerattanachai di babak final. Mereka menang usai bertarung tiga gim dengan skor 21-15, 17-21, 21-8.\"Bonus ini merupakan apresiasi kepada Praveen/Melati atas dedikasi dan kerja keras mereka sehingga meraih kesuksesan di All England 2020. Bagi Praveen, menjadi juara All England kedua dengan partner berbeda adalah sejarah bagi Indonesia. Pertama dengan Debby Susanto (2016), kini dengan Melati,\" kata Yoppy dalam aplikasi Zoom. \"Ke depan ini menjadi tantangan buat Praveen dan Melati sebagai penerus Tontowi Ahmad/Liliyana Natsir. Apakah bisa mengikuti prestasi pendahulunya. All England sudah, juara dunia, dan olimpiade belum. Tantangan itu harus dijawab mereka,\" ujarnya.Djarum memberikan bonus uang tunai kepada Praveen dan Melati masing-masing sebesar Rp 200 juta plus voucher belanja sebesar Rp 50 juta bagi keduanya. Dia pun berharap bonus ini bisa memacu mereka untuk memberikan catatan prestasi di turnamen-turnamen internasional lainnya. \"Prestasi mereka memberikan kita harapan bahwa Indonesia bisa kembali berbicara banyak di sektor ganda campuran pada masa mendatang. Semoga dalam waktu dekat, Praveen/Melati bisa merebut kembali tempat tersebut,\" dia mengharapkan. ', 'Keputusan Tontowi Ahmad pensiun bikin kaget pebulutangkis Apriyani Rahayu. Padahal Apriyani sempat berharap bakal berduet lama dengan Tontowi Ahmad.Apriyani dipasangkan dengan Tontowi menyusul hasil stagnan duet sebelumnya. Awalnya, Tontowi berduet dengan Winny Oktavina Kandow, tapi belum sesuai ekspektasi.Bersama Apriyani, sempat ada secercah harapan. Saat tampil pertama kali di Indonesia Masters 2020, mereka lolos ke babak utama. Padahal mereka belum menjalani latihan serius.Dalam prosesnya, mereka memang kembali menjalani latihan terpisah. Apriyani fokus buat kualifikasi Olimpiade, sebelum diputuskan ditunda tahun depan dan ada pandemi virus corona. Sedangkan, Tontowi sejak Februari tidak menjalani latihan. Belakangan justru muncul isu dia akan gantung raket yang terungkap lewat pelatihnya, Richard Mainaky.Kini, Tontowi benar-benar pensiun. Dia melayangkan surat pengunduran diri kepada PBSI, Senin (18/5/2020). Kabar itu sampai juga ke telingan Apriyani. Mengetahui informasinya dari Instagram @badminton.ina, peringkat delapan dunia ganda putri itu kaget.\"Saya malah tidak mendengar sama sekali mas Owi (Tontowi Ahmad) akan pensiun saat Februari itu. Kebetulan, saya juga sedang sibuk turnamen dan biasanya kalau lagi persiapan jarang melihat berita-berita,\" kata Apriyani kepada detikSport, melalui sambungan telepon.Bagi Apriyani, berita mundurnya Tontowi dari pelatnas PBSI cukup mengejutkan. Pasalnya, dia sempat berekspetasi duetnya dengan peraih medali emas Olimpiade 2016 Rio de Janeiro itu bakal panjang.\"Iya, sebenarnya jujur ada ekspektasi (duet) dengan mas Owi bakal bertahan lama nih. Mungkin, mungkin mas Owi ada merasa di pelatnas tidak diperhatikan atau bagaimana, kita tidak tahu kan. Jadi mas Owi sudah ambil keputusan ya sudah begini. Tapi saya ekspektasinya bakal lama.\"Terlebih sebelumnya, sebut Apriyani, pelatih masing-masing sektor yakni Eng Hian (ganda putri) dan Richard Mainaky (ganda campuran) telah menyepakati akan mengirim mereka berdua ke turnamen BWF World Tour Super 300 dan 500.\"Cuma saya lagi fokus-fokusnya untuk Olimpiade jadi tidak berjalan dengan baik. Pelatih ingin fokusnya ke Olimpiade, jadi kami mau bagaimana. Mungkin juga mas Owi di pelatnas tidak dihargai lagi mungkin, enggak tahu, jadi ya sudah. Jadi dia semakin bulat dengan keputusannya (pensiun). Saya juga belum ada komunikasi lagi terakhir kemarin.\"\"Mas Owi di mana pun berada, jangan sombong-sombong sama kami. Ajak main, mas Owi juga selalu sehat, entah bisnis ataupun apa dikerjakan di luar sukses. Jangan cuek-cuek lah,\" tutur Apriyani.', 'PP PBSI merespons keputusan Badminton World Federation (BWF) memundurkan kembali jadwal Piala Thomas dan Uber 2020. Oktober disebut sebagai waktu yang ideal.Awalnya, Piala Thomas dan Uber akan bergulir 16-24 Mei 2020 di Aahur, Denmark. BWF kemudian menundanya ke 15-23 Agustus setelah wabah virus corona meluas secara global.Kini, BWF kembali menunda lagi-lagi imbas COVID-19. Pemerintah Denmark mengeluarkan kebijakan larangan berkegiatan dalam skala besar sampai Agustus, sehingga pelaksanaan turnamen beregu itu paling mungkin digelar 3-11 Oktober 2020.Sekretaris Jenderal PBSI Achmad Budiharto menyambut positif keputusan itu. Pasalnya, dia memprediksi bahwa virus Corona sudah mereda di bulan Agustus sehingga atletnya bisa melakukan persiapan normal.\"Kalau lihat perkiraan di Indonesia, puncak COVID-19 akan ada di bulan Mei, jadi Juli atau Agustus mudah-mudahan sudah bisa normal. Kalau perkiraan ini tepat, saya rasa Oktober ini waktu yang ideal,\" kata Budiharto dalam rilis yang diterima detikSport, Rabu (29/4/2020).\"Artinya, kami punya waktu dua bulan (Agustus-September untuk mematangkan persiapan. Meskipun, semua sangat bergantung pada turnamen sebelumnya,\" ucapnya.Hal ini, sebut Budiharto, berkaitan penyusunan strategi persiapan atlet dan pemanasan Kevin Sanjaya dkk setelah lebih dari sebulan tanpa kompetisi.', 'PP PBSI mengajukan perubahan jadwal Indonesia Open 2020 dari Juni ke September. Perubahan itu tak lepas dari imbas pandemi virus Corona.Indonesia Open awalnya akan digelar 16-21 Juni di Istora Senayan, Gelora Bung Karno (GBK). Kemudian induk olahraga tertinggi bulutangkis Indonesia mempertimbangan sejumlah hal termasuk risiko penyebaran virus corona yang telah menjadi pandemi. BWF World Tour Super 1000 itu diusulkan mundur ke 29 September-4 Oktober.\"Kami sudah ajukan ke Badminton World Federation (BWF) tapi kami masih menunggu jawaban dari mereka,\" kata Sekretaris Jenderal PBSI Achmad Budiharto dalam rilis yang diterima detikSport, Kamis (26/3/2020).Tak hanya menunggu jawaban, PBSI sekaligus meminta arahan BWF terkait kelanjutan penyelenggaraan Indonesia Masters Super 100 jika memang disetujui. Sebab, waktu yang diajukan untuk Indonesia Open itu sedianya telah PBSI amankan untuk slot turnamen Indonesia Masters 2020 BWF World Tour Super 100.\"Jadi jika disetujui bagaimana kelanjutan penyelenggaraan Indonesia Masters Super 100. Apakah akan ditunda atau dibatalkan,\" ujarnya.']\n"
     ]
    }
   ],
   "source": [
    "print(berita)"
   ]
  },
  {
   "cell_type": "code",
   "execution_count": 24,
   "metadata": {},
   "outputs": [],
   "source": [
    "berita = buangstopword(' '.join(berita))\n",
    "hitung = mapreduce(' '.join(berita))"
   ]
  },
  {
   "cell_type": "code",
   "execution_count": 25,
   "metadata": {},
   "outputs": [],
   "source": [
    "hitung = sorted(hitung, key=lambda x: x[1],reverse=True)"
   ]
  },
  {
   "cell_type": "code",
   "execution_count": 26,
   "metadata": {},
   "outputs": [
    {
     "name": "stdout",
     "output_type": "stream",
     "text": [
      "[('indonesia', 52), ('turnamen', 52), ('pbsi', 44), ('2020', 42), ('atlet', 37), ('virus', 37), ('bwf', 34), ('corona', 34), ('open', 30), ('latihan', 26), ('tahun', 24), ('bulutangkis', 23), ('jadi', 22), ('pandemi', 22), ('itu', 19), ('budiharto', 18), ('covid-19', 18), ('waktu', 18), ('detiksport', 17), ('ini', 17), ('jadwal', 17), ('kondisi', 17), ('normal', 17), ('olimpiade', 17), ('negara', 16), ('world', 16), ('all', 15), ('dunia', 15), ('england', 15), ('olahraga', 15), ('pp', 15), ('tapi', 15), ('-', 14), ('agustus', 14), ('pemerintah', 14), ('dia', 13), ('juga', 13), ('kami', 13), ('keputusan', 13), ('pelatnas', 13), ('rumah', 13), ('junior', 12), ('pelatih', 12), ('pemain', 12), ('ujarnya', 12), ('badminton', 11), ('jakarta', 11), ('menjalani', 11), ('pebulutangkis', 11), ('salah', 11), ('wabah', 11), ('achmad', 10), ('apa', 10), ('diterima', 10), ('juara', 10), ('juni', 10), ('rilis', 10), ('(bwf)', 9), ('apriyani', 9), ('federation', 9), ('ganda', 9), ('herry', 9), ('international', 9), ('jenderal', 9), ('kesehatan', 9), ('mei', 9), ('mereka', 9), ('pertandingan', 9), ('putra', 9), ('saja', 9), ('tantangan', 9), ('cipayung', 8), ('digelar', 8), ('ditunda', 8), ('keselamatan', 8), ('mendatang', 8), ('menunggu', 8), ('new', 8), ('persiapan', 8), ('program', 8), ('sekretaris', 8), ('super', 8), ('tontowi', 8), ('aturan', 7), ('bagaimana', 7), ('bergulir', 7), ('istora', 7), ('kebaikan', 7), ('kejuaraan', 7), ('kompetisi', 7), ('masyarakat', 7), ('menjaga', 7), ('oktober', 7), ('owi', 7), ('penyelenggaraan', 7), ('perubahan', 7), ('positif', 7), ('tengah', 7), ('tenis', 7), ('tersebut', 7), ('tim', 7), ('tour', 7), ('ya', 7), ('2019', 6), ('2021', 6), ('ahsan', 6), ('anthony', 6), ('apakah', 6), ('baik', 6), ('berjalan', 6), ('dijadwalkan', 6), ('instagram', 6), ('jonatan', 6), ('juli', 6), ('kalau', 6), ('kamis', 6), ('kevin', 6), ('kita', 6), ('mas', 6), ('masters', 6), ('mudik', 6), ('penundaan', 6), ('penyebaran', 6), ('prestasi', 6), ('putri', 6), ('rs', 6), ('sebelumnya', 6), ('sendiri', 6), ('september', 6), ('susy', 6), ('tak', 6), ('tetapi', 6), ('tidak', 6), ('utama', 6), ('yuzuberbagi', 6), ('1000', 5), ('16-21', 5), ('aktivitas', 5), ('aldila', 5), ('begitu', 5), ('berencana', 5), ('berharap', 5), ('besar', 5), ('bonus', 5), ('challenge', 5), ('diundur', 5), ('dkk', 5), ('hendra', 5), ('jaga', 5), ('kebijakan', 5), ('kualifikasi', 5), ('lain', 5), ('larangan', 5), ('lebaran', 5), ('makan', 5), ('mandiri', 5), ('medis', 5), ('mendukung', 5), ('menerapkan', 5), ('mengumumkan', 5), ('menu', 5), ('menunda', 5), ('menyesuaikan', 5), ('namun', 5), ('panitia', 5), ('petenis', 5), ('piala', 5), ('protokol', 5), ('pulang', 5), ('ranking', 5), ('resmi', 5), ('sambungan', 5), ('sanjaya', 5), ('sektor', 5), ('selasa', 5), ('thomas', 5), ('13', 4), ('2', 4), ('29', 4), ('akan', 4), ('akun', 4), ('alternatif', 4), ('ambil', 4), ('asrama', 4), ('banget', 4), ('berat', 4), ('berbagi', 4), ('berkoordinasi', 4), ('bertanding', 4), ('brush', 4), ('cabang', 4), ('cabor', 4), ('christie', 4), ('diri', 4), ('diumumkan', 4), ('dki', 4), ('dulu', 4), ('fisik', 4), ('fokus', 4), ('games', 4), ('gampang', 4), ('gbk', 4), ('imbas', 4), ('induk', 4), ('internasional', 4), ('jarang', 4), ('karantina', 4), ('kegiatan', 4), ('keluarga', 4), ('kepastian', 4), ('kesempatan', 4), ('kondisinya', 4), ('lagi', 4), ('lalu', 4), ('langkah', 4), ('lapangan', 4), ('level', 4), ('menangguhkan', 4), ('mengajukan', 4), ('menggulirkan', 4), ('mengikuti', 4), ('menyetop', 4), ('mungkin', 4), ('nah', 4), ('penonton', 4), ('penyakit', 4), ('piket', 4), ('praveen', 4), ('rabu', 4), ('rildo', 4), ('sakit', 4), ('saya', 4), ('semoga', 4), ('senin', 4), ('sesuai', 4), ('smoothies', 4), ('tenaga', 4), ('terkait', 4), ('uber', 4), ('video', 4), ('yuzu', 4), ('10', 3), ('100', 3), ('14', 3), ('15', 3), ('24', 3), ('300', 3), ('7', 3), ('ada', 3), ('agenda', 3), ('amali', 3), ('aplikasi', 3), ('atletnya', 3), ('babak', 3), ('belum', 3), ('berbeda', 3), ('beregu', 3), ('bermain', 3), ('bersama', 3), ('bertahan', 3), ('biasanya', 3), ('booking', 3), ('bung', 3), ('campuran', 3), ('daftar', 3), ('di', 3), ('diambil', 3), ('dijaga', 3), ('diputuskan', 3), ('disetujui', 3), ('dokter', 3), ('emas', 3), ('fajar', 3), ('federasi', 3), ('film', 3), ('gelora', 3), ('gerak', 3), ('global', 3), ('hasilnya', 3), ('hendra/ahsan', 3), ('hilang', 3), ('hotel', 3), ('iman', 3), ('india', 3), ('isolasi', 3), ('jangan', 3), ('januari', 3), ('jumat', 3), ('juta', 3), ('karena', 3), ('karno', 3), ('keamanan', 3), ('kemudian', 3), ('khusus', 3), ('main', 3), ('maret', 3), ('masak', 3), ('medali', 3), ('melati', 3), ('meluas', 3), ('memfokuskan', 3), ('menegaskan', 3), ('mengajak', 3), ('mengalami', 3), ('menilai', 3), ('menjelaskan', 3), ('meskipun', 3), ('mesti', 3), ('momen', 3), ('mudah-mudahan', 3), ('mundur', 3), ('nasional', 3), ('nomor', 3), ('november', 3), ('padat', 3), ('pasalnya', 3), ('pasangan', 3), ('pelajaran', 3), ('pelaksana', 3), ('pelaksanaan', 3), ('pelatihnya', 3), ('pembatasan', 3), ('pembinaan', 3), ('pensiun', 3), ('penyelenggara', 3), ('peraih', 3), ('peringkat', 3), ('pierngadi', 3), ('pikirkan', 3), ('ppk', 3), ('praveen/melati', 3), ('priska', 3), ('pusat', 3), ('rapid', 3), ('rekan-rekannya', 3), ('rencana', 3), ('rencananya', 3), ('ruang', 3), ('sama', 3), ('satunya', 3), ('sedangkan', 3), ('semua', 3), ('september-4', 3), ('setelah', 3), ('sisi', 3), ('situasinya', 3), ('sosial', 3), ('suasana', 3), ('sudah', 3), ('sutjiadi', 3), ('tahunan', 3), ('terbaik', 3), ('test', 3), ('the', 3), ('tokyo', 3), ('total', 3), ('tunggal', 3), ('(16', 2), ('(2', 2), ('(2/6/2020)jadi', 2), ('(27/3/2020)', 2), ('(7', 2), ('(9', 2), ('(ganda', 2), ('(pp', 2), ('(turnamen)', 2), ('11-16', 2), ('12', 2), ('17', 2), ('17-22', 2), ('2018', 2), ('21', 2), ('22', 2), ('28', 2), ('@yuzuindonesia', 2), ('acara', 2), ('air', 2), ('ajang', 2), ('akibat', 2), ('aktif', 2), ('ananda', 2), ('apalagi', 2), ('apapun', 2), ('api', 2), ('april', 2), ('asian', 2), ('australia', 2), ('awal', 2), ('bandung', 2), ('bantu', 2), ('bantuan', 2), ('baru', 2), ('batal', 2), ('beatrice', 2), ('benar-benar', 2), ('bencana', 2), ('berakhir', 2), ('berduet', 2), ('berhenti', 2), ('berkomunikasi', 2), ('berlaku', 2), ('bersabar', 2), ('berskala', 2), ('bersyukur', 2), ('bertanggung', 2), ('bidang', 2), ('bikin', 2), ('bisa', 2), ('bukan', 2), ('bulat', 2), ('campaign', 2), ('cerita', 2), ('china', 2), ('coach', 2), ('coba', 2), ('cuci', 2), ('daerah', 2), ('de', 2), ('dengan', 2), ('denmark', 2), ('depan', 2), ('desember', 2), ('dibuka', 2), ('dicek', 2), ('dijuluki', 2), ('diketahui', 2), ('diperhatikan', 2), ('dipikirkan', 2), ('diterapkan', 2), ('djarum', 2), ('donasi', 2), ('dukungan', 2), ('event', 2), ('fakultas', 2), ('februari', 2), ('game', 2), ('grade', 2), ('hal', 2), ('harap', 2), ('harapan', 2), ('hasil', 2), ('hobi', 2), ('indah', 2), ('intensitasnya', 2), ('isotonic', 2), ('jam', 2), ('jamin', 2), ('jaminan', 2), ('janeiro', 2), ('jatah', 2), ('jauh', 2), ('jujur', 2), ('juni)russian', 2), ('kalender', 2), ('kamar', 2), ('kampung', 2), ('kapuk', 2), ('kawasan', 2), ('kebetulan', 2), ('kedokteran', 2), ('kedua', 2), ('kedutaan', 2), ('kelanjutan', 2), ('kelas', 2), ('kembali', 2), ('kepala', 2), ('kesiapan', 2), ('kesibukan', 2), ('ketat', 2), ('kisah', 2), ('konkret', 2), ('koordinasi', 2), ('kumpul', 2), ('kunjungi', 2), ('live', 2), ('lolos', 2), ('makanan', 2), ('make', 2), ('maksudnya', 2), ('manajemen', 2), ('masker', 2), ('memasukkan', 2), ('mematangkan', 2), ('membangun', 2), ('membatasi', 2), ('membutuhkan', 2), ('mempengaruhi', 2), ('memutuskan', 2), ('menerima', 2), ('mengambil', 2), ('mengeluarkan', 2), ('mengepel', 2), ('menggelar', 2), ('mengharapkan', 2), ('mengimbau', 2), ('menit', 2), ('menjalankan', 2), ('menjamin', 2), ('menjuarai', 2), ('menyambut', 2), ('menyapu', 2), ('menyusul', 2), ('menyusun', 2), ('merespons', 2), ('mewabah', 2), ('minggu', 2), ('mohammad', 2), ('multievent', 2), ('mundurnya', 2), ('naga', 2), ('nanti', 2), ('negatif', 2), ('nights', 2), ('otomatis', 2), ('padahal', 2), ('paling', 2), ('pantai', 2), ('pasar', 2), ('pass', 2), ('pb', 2), ('pekan', 2), ('pelaksanaannya', 2), ('peluang', 2), ('pembicaraan', 2), ('penangguhan', 2), ('penerapan', 2), ('pengaturan', 2), ('penggunaan', 2), ('pengurus', 2), ('penuh', 2), ('penularan', 2), ('penyetopan', 2), ('peralatan', 2), ('perhitungan', 2), ('perkiraan', 2), ('persatuan', 2), ('persiapannya', 2), ('pertama', 2), ('pola', 2), ('pribadi', 2), ('programnya', 2), ('pukulan', 2), ('raya', 2), ('reda', 2), ('regulasinya', 2), ('reservasi', 2), ('richard', 2), ('rio', 2), ('rp', 2), ('rutin', 2), ('sampai', 2), ('sasaran', 2), ('sea', 2), ('sebenarnya', 2), ('sebulan', 2), ('sedianya', 2), ('sekarang', 2), ('selesai', 2), ('sembari', 2), ('semuanya', 2), ('sepenuhnya', 2), ('seremoni', 2), ('setiap', 2), ('setiawan', 2), ('setidaknya', 2), ('skala', 2), ('status', 2), ('sukses', 2), ('surat', 2), ('susanti', 2), ('tahu', 2), ('tanah', 2), ('tangan', 2), ('telepon', 2), ('tennis', 2), ('tepat', 2), ('terbatas', 2), ('terburu-buru', 2), ('terdampak', 2), ('terima', 2), ('terkini', 2), ('termasuk', 2), ('tertinggi', 2), ('tertutup', 2), ('tes', 2), ('tinggi', 2), ('tuan', 2), ('tubuhnya', 2), ('tujuannya', 2), ('tulis', 2), ('turnamen-turnamen', 2), ('universitas', 2), ('untuk', 2), ('up', 2), ('vakum', 2), ('warga', 2), ('wilayah', 2), ('wjc', 2), ('wni', 2), ('yang', 2), ('zainudin', 2), ('zealand', 2), ('zoom', 2), ('(1', 1), ('(10/4/2020)pbsi', 1), ('(11/6/2020)', 1), ('(13', 1), ('(16/6/2020)untuk', 1), ('(17/5/2020)', 1), ('(18-23', 1), ('(18/5/2020)', 1), ('(20-25', 1), ('(2016)', 1), ('(21/4/2020)', 1), ('(22/4/2020)ahsan', 1), ('(25', 1), ('(26/3/2020)tak', 1), ('(27/5/2020)', 1), ('(27/5/2020)nah', 1), ('(28', 1), ('(28/5/2020)karena', 1), ('(29/4/2020)artinya', 1), ('(30/3/2020)', 1), ('(30/4/2020)', 1), ('(31/3/2020)sekarang', 1), ('(4', 1), ('(6/4/2020)', 1), ('(6/5)', 1), ('(7/5/2020)meskipun', 1), ('(8-13', 1), ('(9/4/2020)so', 1), ('(a)', 1), ('(adp)', 1), ('(agustus-september', 1), ('(badan)', 1), ('(benar-benar)', 1), ('(buat', 1), ('(d)', 1), ('(duet)', 1), ('(fkg)', 1), ('(fokus)', 1), ('(gbk)', 1), ('(idi)', 1), ('(indonesia', 1), ('(itf)', 1), ('(jadwal', 1), ('(lebaran)', 1), ('(masak)', 1), ('(mengikuti)', 1), ('(menyesuaikan', 1), ('(meskipun)', 1), ('(pelarangan', 1), ('(pemerintah)', 1), ('(pensiun)', 1), ('(penundaan)', 1), ('(psbb)', 1), ('(rilis', 1), ('(rscm)', 1), ('(seperti', 1), ('(super', 1), ('(tontowi', 1), ('(ui)', 1), ('(virus', 1), ('(wjc)', 1), ('(wni)', 1), ('(zona)', 1), ('1', 1), ('1000)', 1), ('10000', 1), ('1000ya', 1), ('100jadi', 1), ('1046', 1), ('11-24', 1), ('120000', 1), ('15-23', 1), ('1519', 1), ('16', 1), ('16-24', 1), ('17-21', 1), ('19', 1), ('200', 1), ('2016', 1), ('2020)', 1), ('2020badminton', 1), ('2020bwf', 1), ('2020kalau', 1), ('2020mengingat', 1), ('2020sekretaris', 1), ('2020tim', 1), ('21-15', 1), ('21-8bonus', 1), ('25', 1), ('2australian', 1), ('3', 1), ('3-11', 1), ('31', 1), ('34', 1), ('35', 1), ('37', 1), ('4', 1), ('4-17', 1), ('46', 1), ('5', 1), ('50', 1), ('500cuma', 1), ('5092', 1), ('63', 1), ('87', 1), ('@badmintonina', 1), ('@dila11', 1), ('@yuzuindonesiamasyarakat', 1), ('aahur', 1), ('activity', 1), ('agustus)', 1), ('agustusprogram', 1), ('ahmad', 1), ('ahmad)', 1), ('ahmad/liliyana', 1), ('ahmadapriyani', 1), ('aja', 1), ('ajak', 1), ('ajukan', 1), ('aktivitasnya', 1), ('alan', 1), ('alangkah', 1), ('alasan', 1), ('alat', 1), ('alfian', 1), ('almarhum', 1), ('amalihal-hal', 1), ('amankan', 1), ('amannya', 1), ('and', 1), ('andai', 1), ('anggia', 1), ('anggota', 1), ('animasi', 1), ('animo', 1), ('anjuran', 1), ('antisipasi', 1), ('anwar', 1), ('apa)', 1), ('aparat', 1), ('apresiasi', 1), ('arah', 1), ('arahan', 1), ('area', 1), ('arena', 1), ('asia', 1), ('aspek', 1), ('aspeknya', 1), ('auckland', 1), ('awalnya', 1), ('ayal', 1), ('ayotenis', 1), ('badan', 1), ('bagi', 1), ('bagian-bagian', 1), ('bahan-bahannya', 1), ('bahkan', 1), ('baiknya', 1), ('baju', 1), ('balikan', 1), ('bambang', 1), ('banyak', 1), ('barengan', 1), ('bawah', 1), ('beda', 1), ('begini', 1), ('bekasidaerah-daerah', 1), ('belajar', 1), ('belakangan', 1), ('belanja', 1), ('belasan', 1), ('bentuk', 1), ('berada', 1), ('beradaptasi', 1), ('beragam', 1), ('berani', 1), ('berbenturan', 1), ('berbicara', 1), ('berdampak', 1), ('berdiam', 1), ('berdua', 1), ('berdurasi', 1), ('berekspetasi', 1), ('bergantung', 1), ('bergengsi', 1), ('bergilir', 1), ('bergulirpp', 1), ('berhasil', 1), ('berikutnya', 1), ('berimbas', 1), ('beristirahat', 1), ('berita', 1), ('berita-berita', 1), ('berjarak', 1), ('berjuang', 1), ('berkaitan', 1), ('berkegiatan', 1), ('berkembang', 1), ('berkisah', 1), ('berkompetisinya', 1), ('berkomuniksi', 1), ('berkomunkasi', 1), ('berkontribusi', 1), ('berkumpul', 1), ('berkurang', 1), ('berlaga', 1), ('berlatih', 1), ('bernapas', 1), ('berpasangan', 1), ('berpeluang', 1), ('berperan', 1), ('berperang', 1), ('bersamapemerintah', 1), ('bersih', 1), ('berspekulasi', 1), ('bertahap', 1), ('bertambah', 1), ('bertarung', 1), ('bertemu', 1), ('beruntun', 1), ('besoknya', 1), ('biar', 1), ('biasanyatujuan', 1), ('bilang', 1), ('bisnis', 1), ('body', 1), ('bohong', 1), ('botol', 1), ('brand', 1), ('brave', 1), ('buang', 1), ('budget', 1), ('budihartooleh', 1), ('budikusuma', 1), ('bulan-bulan', 1), ('bulu', 1), ('cabor)', 1), ('call', 1), ('campuran)', 1), ('cancel-cancel', 1), ('caranyapenyebaran', 1), ('card', 1), ('cari', 1), ('cash', 1), ('catata', 1), ('catatan', 1), ('cepat', 1), ('cepat-cepat', 1), ('ceritakan', 1), ('championship', 1), ('chrisye', 1), ('cikini', 1), ('cipto', 1), ('clear', 1), ('cocok', 1), ('contact', 1), ('corona)', 1), ('coronahal', 1), ('coronaindonesia', 1), ('coronakami', 1), ('coronapemerintah', 1), ('coronasementara', 1), ('covid-19kami', 1), ('cuek-cuek', 1), ('cuma', 1), ('cup', 1), ('daeva', 1), ('dalam', 1), ('dampak', 1), ('dan', 1), ('darurat', 1), ('datang)', 1), ('debby', 1), ('dechapol', 1), ('dedikasi', 1), ('dekat', 1), ('delapan', 1), ('dengar', 1), ('denmarksebelum', 1), ('depana', 1), ('depannya', 1), ('departemen', 1), ('detiksportakan', 1), ('detiksportmenyempatkan', 1), ('detiksportpbsi', 1), ('detiksportsampai', 1), ('diadakan', 1), ('diajukan', 1), ('diakemenpora', 1), ('diamenyoal', 1), ('diandalkan', 1), ('diantar', 1), ('diauntuk', 1), ('dibahas', 1), ('dibatalkan', 1), ('dibayarkan', 1), ('dibekukan', 1), ('diberlakukan', 1), ('dibilang', 1), ('dibuatkalau', 1), ('dibuatkan', 1), ('dicari', 1), ('didukung', 1), ('diganjar', 1), ('dihargai', 1), ('dihelat', 1), ('diikuti', 1), ('diizinkan', 1), ('dijadwal', 1), ('dijalani', 1), ('dikarantina', 1), ('dikeluarkan', 1), ('dikunjungi', 1), ('dikurangi', 1), ('dikutip', 1), ('dinikmati', 1), ('dinilai', 1), ('dipadati', 1), ('dipantau', 1), ('dipasangkan', 1), ('dipisahkan', 1), ('dipulihkan', 1), ('direncanakan', 1), ('direnungkan', 1), ('direspons', 1), ('disandang', 1), ('disediakan', 1), ('disela-sela', 1), ('diselenggarakan', 1), ('diserukan', 1), ('disetop', 1), ('disiapkan', 1), ('disodori', 1), ('distancing', 1), ('disumbangkan', 1), ('disusul', 1), ('ditahan', 1), ('ditangguhkan', 1), ('ditangguhkanpbsi', 1), ('ditangguhkanturnamen', 1), ('ditempuh', 1), ('ditentukan', 1), ('ditetapkan', 1), ('ditonton', 1), ('ditukarkan', 1), ('diulang', 1), ('diusulkan', 1), ('diutamakan', 1), ('double', 1), ('dr', 1), ('drop', 1), ('duet', 1), ('duetnya', 1), ('dulujadi', 1), ('duniapersiapan', 1), ('duniasebenarnya', 1), ('duta', 1), ('efek', 1), ('ekspektasi', 1), ('ekspektasibersama', 1), ('ekspektasinya', 1), ('elite', 1), ('empat', 1), ('enam', 1), ('eng', 1), ('enggan', 1), ('eventnya', 1), ('exist', 1), ('faktor', 1), ('fans', 1), ('fase', 1), ('fatmawatikegiatan', 1), ('federasinya', 1), ('feeling', 1), ('fernaldi', 1), ('filmberbeda', 1), ('final', 1), ('fisiknya', 1), ('fitri', 1), ('fixed', 1), ('fleksibel', 1), ('flow', 1), ('fokus-fokusnya', 1), ('fokusnya', 1), ('gaek', 1), ('ganggu', 1), ('gantung', 1), ('garda', 1), ('gbkkami', 1), ('gideon', 1), ('gigi', 1), ('gim', 1), ('ginting', 1), ('gitu', 1), ('globalbwf', 1), ('globalkini', 1), ('golkar', 1), ('grand', 1), ('griya', 1), ('grup', 1), ('gumulyatak', 1), ('habis', 1), ('halangan', 1), ('handuk', 1), ('hanya', 1), ('harus', 1), ('hati-hati', 1), ('head', 1), ('hendra/ahsanbagi', 1), ('hian', 1), ('hidup', 1), ('hikmah', 1), ('hong', 1), ('hubungan', 1), ('hubungannya', 1), ('hyderabad', 1), ('ideal', 1), ('idealawalnya', 1), ('idul', 1), ('ikatan', 1), ('imbasnyamenurut', 1), ('imbuhnya', 1), ('indonesiabiasakan', 1), ('indonesiadisiplin', 1), ('indonesian', 1), ('industri', 1), ('informasi', 1), ('informasinya', 1), ('ingat', 1), ('inggristim', 1), ('ini-ini', 1), ('inidi', 1), ('inisaya', 1), ('instagramnya', 1), ('intensif', 1), ('intensitas', 1), ('internal', 1), ('intinya', 1), ('ip', 1), ('iseng', 1), ('istialahnya', 1), ('istilahnya', 1), ('istri', 1), ('isu', 1), ('itf', 1), ('itubwf', 1), ('ituperaih', 1), ('jadwal)', 1), ('jadwalnya', 1), ('jakartaterkait', 1), ('jalanidengan', 1), ('janice', 1), ('japan', 1), ('jarak', 1), ('jaraknya', 1), ('jauh-jauh', 1), ('jawaban', 1), ('jaya', 1), ('jeda', 1), ('jenjang', 1), ('jenuh', 1), ('jepang', 1), ('jessie', 1), ('jessy', 1), ('jika', 1), ('jiwa', 1), ('jonatankarena', 1), ('jordan/melati', 1), ('jugasejauh', 1), ('juli)', 1), ('juli)kejuaraan', 1), ('juli)turnamen', 1), ('julipemerintah', 1), ('juni)canada', 1), ('juni)indonesia', 1), ('juni)rsl', 1), ('juni)thailand', 1), ('juni)white', 1), ('junimeningkatnya', 1), ('justforfun', 1), ('kabar', 1), ('kaget', 1), ('kagetsaya', 1), ('kalangan', 1), ('kali', 1), ('kamera', 1), ('kampungnya', 1), ('kamu', 1), ('kamua', 1), ('kan', 1), ('kandow', 1), ('kantin', 1), ('kantung', 1), ('kapannya', 1), ('karenalebih', 1), ('kasubid', 1), ('kasusnya', 1), ('kawannya', 1), ('ke', 1), ('keadaannya', 1), ('keamanannya', 1), ('keberhasilannya', 1), ('kebugaran', 1), ('kedatangan', 1), ('keduanya', 1), ('keistimewaan', 1), ('kejadian', 1), ('kejuaraannya', 1), ('kelihatan', 1), ('kelompok', 1), ('keluarkan', 1), ('kemarin', 1), ('kemarinmas', 1), ('kembalid', 1), ('kembalinya', 1), ('kemenangan', 1), ('kemenpora', 1), ('kementerian', 1), ('kemungkinan', 1), ('kepercayaan', 1), ('keputusannya', 1), ('keputusannyaberikut', 1), ('keramaian', 1), ('keras', 1), ('kerinduannya', 1), ('kering', 1), ('keringat', 1), ('kerumunan', 1), ('kesehatannya', 1), ('kesejahteraan', 1), ('keselataman', 1), ('kesepakatan', 1), ('keseruan', 1), ('kesuksesan', 1), ('kesulitan', 1), ('ketahui', 1), ('keteguhan', 1), ('ketemu', 1), ('keterangan', 1), ('ketidakpastian', 1), ('ketidakpuasanmenurut', 1), ('ketimbang', 1), ('khususnya', 1), ('kini', 1), ('klinik', 1), ('klub', 1), ('km', 1), ('kokinya', 1), ('kolom', 1), ('komentar', 1), ('komunikasi', 1), ('komunitas', 1), ('kondusif', 1), ('konfederasi', 1), ('kong', 1), ('konsep', 1), ('kontinentaladapun', 1), ('korban', 1), ('korea', 1), ('kota', 1), ('kuat', 1), ('laga', 1), ('lagi-lagi', 1), ('lah', 1), ('laina', 1), ('lainnya', 1), ('lainnyad', 1), ('lainnyanamun', 1), ('lainnyaseperti', 1), ('laksanakan', 1), ('laman', 1), ('lamannya', 1), ('lamaterlebih', 1), ('langsungsaat', 1), ('langsungsebelumnya', 1), ('lanjutnyabudiharto', 1), ('latihannya', 1), ('layaknya', 1), ('layar', 1), ('lebih', 1), ('lega', 1), ('legenda', 1), ('lepas', 1), ('liburannya', 1), ('lilo', 1), ('lingkungan', 1), ('lingkup', 1), ('lithuanian', 1), ('lokasi', 1), ('luangnya', 1), ('lumpuh', 1), ('macet', 1), ('mainaky', 1), ('mainakykini', 1), ('makanya', 1), ('mandi', 1), ('manfaat', 1), ('mangunkusumo', 1), ('manila', 1), ('manusia', 1), ('mari', 1), ('masak-masak', 1), ('masakan', 1), ('masih', 1), ('masing-masing', 1), ('masuk', 1), ('masyarakatnya', 1), ('maunya', 1), ('me-mention', 1), ('media', 1), ('mei)latvia', 1), ('mei)slovenia', 1), ('mei)vietnam', 1), ('meisebetulnya', 1), ('melawan', 1), ('melayangkan', 1), ('melempar', 1), ('melewati', 1), ('melibatkan', 1), ('meloloskan', 1), ('memacu', 1), ('memahami', 1), ('memakai', 1), ('memakan', 1), ('memang', 1), ('membantu', 1), ('membawa', 1), ('membekukan', 1), ('memberantas', 1), ('memberlakukan', 1), ('memerangi', 1), ('memetik', 1), ('memikirkan', 1), ('memiliki', 1), ('memperbesar', 1), ('memperebutkan', 1), ('mempertimbangan', 1), ('mempertimbangkan', 1), ('memprediksi', 1), ('memunculkan', 1), ('memundurkan', 1), ('memungkinkan', 1), ('menahan', 1), ('menambahkantim', 1), ('menampilkan', 1), ('menandai', 1), ('menang', 1), ('menanggung', 1), ('mencapai', 1), ('mencari', 1), ('mencegah', 1), ('mencuci', 1), ('mendatangkepala', 1), ('mendengar', 1), ('menekan', 1), ('menerbitkan', 1), ('mengacu', 1), ('mengakali', 1), ('mengalahkan', 1), ('mengalaminyasaat', 1), ('mengantisipasi', 1), ('mengejutkan', 1), ('mengelap', 1), ('mengembalikan', 1), ('mengerti', 1), ('mengertikami', 1), ('mengetahui', 1), ('menggembirakanhasil', 1), ('menggesernya', 1), ('menggosok-gosoknya', 1), ('menggulirkannya', 1), ('menghadapi', 1), ('menghadiri', 1), ('menghentikan', 1), ('menghindari', 1), ('mengirim', 1), ('mengisi', 1), ('mengisolasi', 1), ('mengizinkan', 1), ('mengkaji', 1), ('mengonfirmasi', 1), ('mengumumkannya', 1), ('menguras', 1), ('menimbulkan', 1), ('menimpalikami', 1), ('meninggal', 1), ('meninggalkan', 1), ('meningkatkan', 1), ('meniru', 1), ('menjadwalkan', 1), ('menjelang', 1), ('menjelaskanindonesia', 1), ('menjelaskanlantas', 1), ('menpora', 1), ('mensyukuri', 1), ('menteng', 1), ('menular', 1), ('menundanya', 1), ('menurun', 1), ('menurunkan', 1), ('menurut', 1), ('menyadari', 1), ('menyalurkan', 1), ('menyebar', 1), ('menyebut', 1), ('menyepakati', 1), ('menyerahkan', 1), ('menyoal', 1), ('menyumbang', 1), ('menyumbangkan', 1), ('meraih', 1), ('meramaikan', 1), ('merasakan', 1), ('merayakan', 1), ('merebut', 1), ('mereda', 1), ('meredam', 1), ('merencanakan', 1), ('merenung', 1), ('merida', 1), ('merugi', 1), ('merujuk', 1), ('merundingkan', 1), ('mewajibkan', 1), ('mikirin', 1), ('mikrobiologi', 1), ('minimnya', 1), ('minum', 1), ('moana', 1), ('muda', 1), ('mudah', 1), ('mulai', 1), ('mulainya', 1), ('mulan', 1), ('multi', 1), ('muncul', 1), ('nantinya', 1), ('nantinyausai', 1), ('natsir', 1), ('negaraselain', 1), ('negatifdemikian', 1), ('negeri', 1), ('ngomong', 1), ('nih', 1), ('nonton', 1), ('norma-norma', 1), ('normalkalau', 1), ('nugroho', 1), ('nunggu-nunggu', 1), ('nyaris', 1), ('octaviani', 1), ('of', 1), ('ofisial', 1), ('oktavianti', 1), ('oktavina', 1), ('oktober)ini', 1), ('oktoberkami', 1), ('oktoberselagi', 1), ('open)', 1), ('opsi', 1), ('orangya', 1), ('organisasi', 1), ('over', 1), ('padatnya', 1), ('pagi', 1), ('pandemik', 1), ('panjang', 1), ('panjangiya', 1), ('pantau', 1), ('para', 1), ('paradenmark', 1), ('parah', 1), ('paralimpiade', 1), ('partner', 1), ('paru', 1), ('pas', 1), ('pasien', 1), ('passthebrushchallenge', 1), ('pastibwf', 1), ('pbsi)', 1), ('pdpi', 1), ('pelabuhan', 1), ('pelan-pelan', 1), ('pelbagai', 1), ('pelindung', 1), ('pelti', 1), ('pelti)', 1), ('pemainnya', 1), ('pemainnyapertama', 1), ('pemanasan', 1), ('pemasukan', 1), ('pembangunan', 1), ('pembatalan', 1), ('pembatalankondisi', 1), ('pembekuan', 1), ('pemberian', 1), ('pemerintahnanti', 1), ('pemicunyaindonesia', 1), ('pemuda', 1), ('pemusatan', 1), ('pencabutan', 1), ('pendaftaran', 1), ('pendahulunya', 1), ('pendanaan', 1), ('penerimaan', 1), ('penerus', 1), ('pengaruh', 1), ('pengikutnya', 1), ('pengumuman', 1), ('pengunduran', 1), ('peninjauan', 1), ('penjadwalan', 1), ('penjualan', 1), ('penjuru', 1), ('penontonkami', 1), ('penundaansebelumnya', 1), ('penyanyi', 1), ('penyebarankevin', 1), ('penyelenggaramungkin', 1), ('penyelenggaran', 1), ('penyelenggaraturnamen', 1), ('penyusunan', 1), ('peran', 1), ('peraturannya', 1), ('perbincangan', 1), ('perfoma', 1), ('perhatikan', 1), ('perhelatan', 1), ('perilaku', 1), ('perjuangan', 1), ('perkembangan', 1), ('pers', 1), ('persahabatan', 1), ('pertandingan-pertandingan', 1), ('pertandingannya', 1), ('pertimbangkan', 1), ('perusahaan', 1), ('perwakilan-perwakilan', 1), ('petikan', 1), ('pewarta', 1), ('pgi', 1), ('pikir-pikir', 1), ('pilih-pilih', 1), ('pilihan', 1), ('planning', 1), ('pln', 1), ('plus', 1), ('poin', 1), ('politisi', 1), ('populer', 1), ('porsi', 1), ('portfolio', 1), ('positifnya', 1), ('potensi', 1), ('potongan', 1), ('pra-kualifikasi', 1), ('prawesti', 1), ('pribadinyaselain', 1), ('prioritas', 1), ('prix', 1), ('proaktif', 1), ('produk', 1), ('proposal', 1), ('prosedur', 1), ('proses', 1), ('prosesnya', 1), ('puavaranukroh/sapsiree', 1), ('pulang)', 1), ('puluhan', 1), ('puncak', 1), ('puspa', 1), ('putri)', 1), ('putrimenpora', 1), ('rahayu', 1), ('raket', 1), ('ramping', 1), ('rantai', 1), ('rapat', 1), ('rasakan', 1), ('rata-rata', 1), ('ratus', 1), ('rebolalu', 1), ('rela', 1), ('rendah', 1), ('respons', 1), ('ri', 1), ('ribet', 1), ('risiko', 1), ('risikonya', 1), ('riskan', 1), ('roedyanto', 1), ('rompies', 1), ('rspi', 1), ('rsud', 1), ('rumahaldila', 1), ('rumahd', 1), ('rutinitasnya', 1), ('ryne', 1), ('saat', 1), ('sabar', 1), ('sajajadi', 1), ('sakitpada', 1), ('samausai', 1), ('sambung', 1), ('sampah', 1), ('sana', 1), ('sang', 1), ('saroso', 1), ('saudara-saudara', 1), ('sebab', 1), ('seberuntung', 1), ('sebisa', 1), ('secara', 1), ('secercah', 1), ('segan', 1), ('sehari-hari', 1), ('sehat', 1), ('seintens', 1), ('seiring', 1), ('sejarah', 1), ('sejatinya', 1), ('sektorkami', 1), ('selagi', 1), ('selain', 1), ('selama', 1), ('selandia', 1), ('selanjutnya', 1), ('seluruh', 1), ('sembarang', 1), ('sembuh', 1), ('sementara', 1), ('seminggu', 1), ('senantiasa', 1), ('senayan', 1), ('senayanketua', 1), ('senior', 1), ('seperti', 1), ('september-11', 1), ('septembersementara', 1), ('sepulangnya', 1), ('seraya', 1), ('series', 1), ('seriusdalam', 1), ('sesi', 1), ('setahun', 1), ('seterusnyadi', 1), ('setiawan/mohammad', 1), ('sgs', 1), ('si', 1), ('sia-siakan', 1), ('siangbonus', 1), ('siapkannya', 1), ('sibuk', 1), ('sih', 1), ('sikat', 1), ('silakan', 1), ('sinisuka', 1), ('sistem', 1), ('situasi', 1), ('skor', 1), ('slot', 1), ('social', 1), ('sombong-sombong', 1), ('sop', 1), ('sponsor', 1), ('stabil', 1), ('stagnan', 1), ('stitch', 1), ('strategi', 1), ('stretching', 1), ('suhandinata', 1), ('suhu', 1), ('suka', 1), ('sukamuljo/marcus', 1), ('sulianto', 1), ('sulit', 1), ('susah', 1), ('susanto', 1), ('taerattanachai', 1), ('taipei', 1), ('taking', 1), ('tambahnyasusy', 1), ('tampil', 1), ('tamu', 1), ('tanggal', 1), ('tanggung', 1), ('tangkis', 1), ('tantangannya', 1), ('team', 1), ('teknik', 1), ('teleponbagi', 1), ('telepondetiksport', 1), ('teleponsejauh', 1), ('telingan', 1), ('teman-teman', 1), ('tenang', 1), ('tenisberikut', 1), ('terbentur', 1), ('terdepan', 1), ('terekam', 1), ('terganggu', 1), ('terhenti', 1), ('terhitung', 1), ('terimbas', 1), ('terjadi', 1), ('terlebih', 1), ('terpaksa', 1), ('terpapar', 1), ('terpenuhidiketahui', 1), ('terpisah', 1), ('terpusat', 1), ('tersebutlebih', 1), ('tersebutsaya', 1), ('tertentusaya', 1), ('tertinggidi', 1), ('terungkap', 1), ('terutama', 1), ('thailand', 1), ('tiap', 1), ('tidur', 1), ('tiga', 1), ('timnya', 1), ('timur', 1), ('titel', 1), ('tjen', 1), ('tokoh', 1), ('totalnya', 1), ('transisi', 1), ('travel', 1), ('treatment', 1), ('tubuh', 1), ('tujuh', 1), ('tulisnya', 1), ('tunai', 1), ('tunggu', 1), ('turnamen)', 1), ('turnamenhendra', 1), ('turnamennya', 1), ('tutupnya', 1), ('u-19', 1), ('uang', 1), ('ucapnyaapalagi', 1), ('ucapnyahal', 1), ('ujarnyadjarum', 1), ('ujarnyamenurut', 1), ('ujarnyaselama', 1), ('ujarnyasituasi', 1), ('ulangreservasi', 1), ('umum', 1), ('umur', 1), ('unggah', 1), ('ungkapkan', 1), ('urusan', 1), ('usia', 1), ('usianya', 1), ('via', 1), ('victor', 1), ('virtual', 1), ('vitamin', 1), ('voucher', 1), ('wacana', 1), ('wajah', 1), ('wajib', 1), ('wakilnya', 1), ('waktubwf', 1), ('waktunya', 1), ('warning-nya', 1), ('was-was', 1), ('wawancara', 1), ('wejangan', 1), ('white', 1), ('wild', 1), ('winny', 1), ('women', 1), ('wonderwomen', 1), ('yoppy', 1)]\n"
     ]
    }
   ],
   "source": [
    "print(hitung)"
   ]
  },
  {
   "cell_type": "markdown",
   "metadata": {},
   "source": [
    "!~/anaconda3/bin/pip install sastrawi"
   ]
  },
  {
   "cell_type": "code",
   "execution_count": 27,
   "metadata": {},
   "outputs": [],
   "source": [
    "from Sastrawi.Stemmer.StemmerFactory import StemmerFactory\n",
    "factory = StemmerFactory()\n",
    "stemmer = factory.create_stemmer()"
   ]
  },
  {
   "cell_type": "code",
   "execution_count": 30,
   "metadata": {},
   "outputs": [
    {
     "name": "stdout",
     "output_type": "stream",
     "text": [
      "saya pergi ke pasar sama anu reeves beli rujak buah sampa di pasar anu reeves minta saya beli rujak buah dengan bumbu yang sangat pedas telah kami bel kami makan rujak buah sebut saya kira anu reeves akan pedas tetapi nyata beliau makan dengan santai dan yakin sungguh tokoh yang luar biasa\n"
     ]
    }
   ],
   "source": [
    "katadasar = stemmer.stem(paragraf)\n",
    "print(katadasar)"
   ]
  },
  {
   "cell_type": "code",
   "execution_count": null,
   "metadata": {},
   "outputs": [],
   "source": []
  }
 ],
 "metadata": {
  "kernelspec": {
   "display_name": "Python 3",
   "language": "python",
   "name": "python3"
  },
  "language_info": {
   "codemirror_mode": {
    "name": "ipython",
    "version": 3
   },
   "file_extension": ".py",
   "mimetype": "text/x-python",
   "name": "python",
   "nbconvert_exporter": "python",
   "pygments_lexer": "ipython3",
   "version": "3.7.3"
  }
 },
 "nbformat": 4,
 "nbformat_minor": 2
}
